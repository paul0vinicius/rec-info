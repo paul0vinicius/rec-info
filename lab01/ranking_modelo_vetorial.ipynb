{
 "cells": [
  {
   "cell_type": "markdown",
   "metadata": {},
   "source": [
    "# Laboratório 1 - Parte 2: Ranking usando o Modelo Vetorial (VSM)"
   ]
  },
  {
   "cell_type": "markdown",
   "metadata": {},
   "source": [
    "## Aluno: Paulo Vinícius Soares\n",
    "## 21/05/2018"
   ]
  },
  {
   "cell_type": "markdown",
   "metadata": {},
   "source": [
    "### Introdução"
   ]
  },
  {
   "cell_type": "markdown",
   "metadata": {},
   "source": [
    "Nesse laboratório vamos nos aprofundar um pouco mais nos conceitos de busca de documentos através de palavras-chave. Vamos adotar a estratégia de ordenação destes através de um ranqueamento gerado a partir de alguns algoritmos. Os algoritmos escolhidos para essa análise foram: **Representação Binária**, **TF**, **TF-IDF** e **BM25**.\n",
    "\n",
    "Vamos aos *imports*. Vamos utilizar nossos três amigos já conhecidos: *pandas*, *nltk* e o *numpy*. Vamos também importar a biblioteca *operator* para ordenação do resultado final."
   ]
  },
  {
   "cell_type": "code",
   "execution_count": 1,
   "metadata": {},
   "outputs": [],
   "source": [
    "import pandas as pd\n",
    "import numpy as np\n",
    "import nltk as nl\n",
    "import math\n",
    "import operator"
   ]
  },
  {
   "cell_type": "code",
   "execution_count": 2,
   "metadata": {},
   "outputs": [],
   "source": [
    "DATABASE_PATH = '../database/estadao_noticias_eleicao.csv'\n",
    "TEMPLATE_PATH = '../database/gabarito.csv'"
   ]
  },
  {
   "cell_type": "markdown",
   "metadata": {},
   "source": [
    "A nossa base de dados é uma versão estendida da primeira parte do laboratório, um conjunto de notícias políticas coletadas no [Estadão Online](http://www.estadao.com.br/)."
   ]
  },
  {
   "cell_type": "code",
   "execution_count": 3,
   "metadata": {},
   "outputs": [],
   "source": [
    "noticias_estadao = pd.read_csv(DATABASE_PATH)\n",
    "noticias_estadao = noticias_estadao.replace(np.nan, '', regex=True)\n",
    "gabarito = pd.read_csv(TEMPLATE_PATH)"
   ]
  },
  {
   "cell_type": "markdown",
   "metadata": {},
   "source": [
    "Após importar corretamente a base de dados, podemos dar uma olhada nos novos campos do *dataframe*. Agora contamos com **subTitulo**, **url** e **timestamp** para auxiliar na construção do *ranking*. Porém, os campos utilizados para a análise são: **titulo**, **subTitulo** e **conteudo**."
   ]
  },
  {
   "cell_type": "code",
   "execution_count": 4,
   "metadata": {},
   "outputs": [
    {
     "data": {
      "text/html": [
       "<div>\n",
       "<style scoped>\n",
       "    .dataframe tbody tr th:only-of-type {\n",
       "        vertical-align: middle;\n",
       "    }\n",
       "\n",
       "    .dataframe tbody tr th {\n",
       "        vertical-align: top;\n",
       "    }\n",
       "\n",
       "    .dataframe thead th {\n",
       "        text-align: right;\n",
       "    }\n",
       "</style>\n",
       "<table border=\"1\" class=\"dataframe\">\n",
       "  <thead>\n",
       "    <tr style=\"text-align: right;\">\n",
       "      <th></th>\n",
       "      <th>timestamp</th>\n",
       "      <th>titulo</th>\n",
       "      <th>subTitulo</th>\n",
       "      <th>conteudo</th>\n",
       "      <th>url</th>\n",
       "      <th>idNoticia</th>\n",
       "    </tr>\n",
       "  </thead>\n",
       "  <tbody>\n",
       "    <tr>\n",
       "      <th>0</th>\n",
       "      <td>2014-12-31T00:00:00Z</td>\n",
       "      <td>PT espera 30 mil pessoas em festa na Esplanada</td>\n",
       "      <td>Objetivo é demonstrar apoio popular a Dilma e ...</td>\n",
       "      <td>BRASÍLIA - Após o desgaste provocado com o lan...</td>\n",
       "      <td>http://politica.estadao.com.br/noticias/geral,...</td>\n",
       "      <td>1</td>\n",
       "    </tr>\n",
       "    <tr>\n",
       "      <th>1</th>\n",
       "      <td>2014-12-31T00:00:00Z</td>\n",
       "      <td>Alckmin toma posse de olho no Planalto</td>\n",
       "      <td>Governador reeleito tenta amarrar tucanos paul...</td>\n",
       "      <td>Reeleito em outubro, o governador tucano Geral...</td>\n",
       "      <td>http://politica.estadao.com.br/noticias/geral,...</td>\n",
       "      <td>2</td>\n",
       "    </tr>\n",
       "    <tr>\n",
       "      <th>2</th>\n",
       "      <td>2014-12-31T00:00:00Z</td>\n",
       "      <td>Seis obstáculos e desafios do segundo mandato ...</td>\n",
       "      <td>Em meio a escândalo de corrupção, presidente t...</td>\n",
       "      <td>1. Rearranjo das contas A nova equipe econôm...</td>\n",
       "      <td>http://politica.estadao.com.br/noticias/geral,...</td>\n",
       "      <td>3</td>\n",
       "    </tr>\n",
       "    <tr>\n",
       "      <th>3</th>\n",
       "      <td>2014-12-31T00:00:00Z</td>\n",
       "      <td></td>\n",
       "      <td>Veja as principais fotos do dia e dos eventos ...</td>\n",
       "      <td></td>\n",
       "      <td>http://fotos.estadao.com.br/fotos/politica,dil...</td>\n",
       "      <td>4</td>\n",
       "    </tr>\n",
       "    <tr>\n",
       "      <th>4</th>\n",
       "      <td>2014-12-31T00:00:00Z</td>\n",
       "      <td></td>\n",
       "      <td>Veja as principais fotos do dia e dos eventos ...</td>\n",
       "      <td></td>\n",
       "      <td>http://fotos.estadao.com.br/fotos/politica,dil...</td>\n",
       "      <td>5</td>\n",
       "    </tr>\n",
       "  </tbody>\n",
       "</table>\n",
       "</div>"
      ],
      "text/plain": [
       "              timestamp                                             titulo  \\\n",
       "0  2014-12-31T00:00:00Z     PT espera 30 mil pessoas em festa na Esplanada   \n",
       "1  2014-12-31T00:00:00Z             Alckmin toma posse de olho no Planalto   \n",
       "2  2014-12-31T00:00:00Z  Seis obstáculos e desafios do segundo mandato ...   \n",
       "3  2014-12-31T00:00:00Z                                                      \n",
       "4  2014-12-31T00:00:00Z                                                      \n",
       "\n",
       "                                           subTitulo  \\\n",
       "0  Objetivo é demonstrar apoio popular a Dilma e ...   \n",
       "1  Governador reeleito tenta amarrar tucanos paul...   \n",
       "2  Em meio a escândalo de corrupção, presidente t...   \n",
       "3  Veja as principais fotos do dia e dos eventos ...   \n",
       "4  Veja as principais fotos do dia e dos eventos ...   \n",
       "\n",
       "                                            conteudo  \\\n",
       "0  BRASÍLIA - Após o desgaste provocado com o lan...   \n",
       "1  Reeleito em outubro, o governador tucano Geral...   \n",
       "2    1. Rearranjo das contas A nova equipe econôm...   \n",
       "3                                                      \n",
       "4                                                      \n",
       "\n",
       "                                                 url  idNoticia  \n",
       "0  http://politica.estadao.com.br/noticias/geral,...          1  \n",
       "1  http://politica.estadao.com.br/noticias/geral,...          2  \n",
       "2  http://politica.estadao.com.br/noticias/geral,...          3  \n",
       "3  http://fotos.estadao.com.br/fotos/politica,dil...          4  \n",
       "4  http://fotos.estadao.com.br/fotos/politica,dil...          5  "
      ]
     },
     "execution_count": 4,
     "metadata": {},
     "output_type": "execute_result"
    }
   ],
   "source": [
    "noticias_estadao.head()"
   ]
  },
  {
   "cell_type": "markdown",
   "metadata": {},
   "source": [
    "### Construindo o novo índice invertido"
   ]
  },
  {
   "cell_type": "markdown",
   "metadata": {},
   "source": [
    "A nova função de índice invertido deve guardar também a frequência que os termos aparecem em cada documento. Dessa forma a estratégia adotada foi a criação de um mapa de mapas, onde a chave do mapa mais externo será o **termo** e o mapa mais interno conterá o **idNoticia** juntamente com a **frequência do termo naquela notícia**."
   ]
  },
  {
   "cell_type": "code",
   "execution_count": 5,
   "metadata": {},
   "outputs": [],
   "source": [
    "def freq_termo(documento, termo):\n",
    "    return len(list(filter((lambda x: x == termo), documento)))"
   ]
  },
  {
   "cell_type": "code",
   "execution_count": 6,
   "metadata": {},
   "outputs": [],
   "source": [
    "def produz_tokens(df):\n",
    "    inverted_index = {}\n",
    "    for i, row in df.iterrows():\n",
    "        \n",
    "        titulo = (word.lower() for word in (nl.word_tokenize(row['titulo'])))\n",
    "        subtitulo = (word.lower() for word in (nl.word_tokenize(row['subTitulo'])))\n",
    "        conteudo = (word.lower() for word in (nl.word_tokenize(row['conteudo'])))\n",
    "        \n",
    "        documento = list(titulo) + list(subtitulo) + list(conteudo)\n",
    "        \n",
    "        for termo in documento:\n",
    "            if termo in inverted_index:\n",
    "                inverted_index[termo][termo][row['idNoticia']] = freq_termo(documento, termo)\n",
    "            else:\n",
    "                inverted_index[termo] = {termo: {row['idNoticia']: freq_termo(documento, termo)}}\n",
    "        \n",
    "    return inverted_index"
   ]
  },
  {
   "cell_type": "code",
   "execution_count": 7,
   "metadata": {},
   "outputs": [],
   "source": [
    "general_dict = produz_tokens(noticias_estadao)"
   ]
  },
  {
   "cell_type": "markdown",
   "metadata": {},
   "source": [
    "### Construindo a representação binária"
   ]
  },
  {
   "cell_type": "markdown",
   "metadata": {},
   "source": [
    "A representação binária analisa a *query* de consulta verificando se o termo aparece no documento. Caso apareça, é somado 1 ponto de *score* para aquele documento. Se a *query* possuir três termos e no documento de id 1 os três termos aparecem, a função retorna o *score* 3 para esse documento.\n",
    "\n",
    "Essa estratégia é bastante simples e de fácil implementação, mas não funciona muito bem por desconsiderar alguns aspectos mais detalhados do documento. Os casos de empate podem ser bastante frequentes, dependendo do tamanho da query, e não há um critério para desempate."
   ]
  },
  {
   "cell_type": "markdown",
   "metadata": {},
   "source": [
    "Espaço reservado para fotos"
   ]
  },
  {
   "cell_type": "code",
   "execution_count": 8,
   "metadata": {},
   "outputs": [],
   "source": [
    "def representacao_binaria(query):\n",
    "    binary_dict = {}\n",
    "    for termo in query:\n",
    "        for docId in general_dict[termo][termo].keys():\n",
    "            if docId in binary_dict:\n",
    "                binary_dict[docId] += 1\n",
    "            else:\n",
    "                binary_dict[docId] = 1\n",
    "    return binary_dict"
   ]
  },
  {
   "cell_type": "markdown",
   "metadata": {},
   "source": [
    "### TF (Term Frequency)"
   ]
  },
  {
   "cell_type": "markdown",
   "metadata": {},
   "source": [
    "A ideia aqui é bem parecida com a representação binária, mas ao invés de considerar 1 ponto para cada vez que o termo aparece, consideramos a frequência com que o termo aparece no documento. Caso ele apareça muito no documento, maior será sua pontuação.\n",
    "\n",
    "A ideia é um pouco melhor do que a anterior por reduzir o empate no *ranking* dos documentos, mas pode ser facilmente enviesado pela frequência abusiva de um termo no documento. "
   ]
  },
  {
   "cell_type": "markdown",
   "metadata": {},
   "source": [
    "Espaço reservado para fotos do babado"
   ]
  },
  {
   "cell_type": "code",
   "execution_count": 9,
   "metadata": {},
   "outputs": [],
   "source": [
    "def tf(query):\n",
    "    tf_dict = {}\n",
    "    for termo in query:\n",
    "        for docId in general_dict[termo][termo].keys():\n",
    "            if docId in tf_dict:\n",
    "                tf_dict[docId] += general_dict[termo][termo][docId]\n",
    "            else:\n",
    "                tf_dict[docId] = general_dict[termo][termo][docId]\n",
    "    return tf_dict"
   ]
  },
  {
   "cell_type": "markdown",
   "metadata": {},
   "source": [
    "### TF-IDF (Inverse Document Frequency)"
   ]
  },
  {
   "cell_type": "markdown",
   "metadata": {},
   "source": [
    "Visando melhorar esse viés da frequência abusiva dos termos no documento, o IDF é calculado baseado na relação entre o **número de documentos em que o termo aparece** e o **número total de documentos**. O logaritmo dessa relação visa suavizar a curva para casos em que a quantidade de termos é muito elevada. Dessa forma, uma quantidade *x* de termos encontrados no documento não influencia tanto assim no *score* final. Então calcula-se o **TF** e, em seguida, é multiplicado pelo **IDF** de cada documento."
   ]
  },
  {
   "cell_type": "markdown",
   "metadata": {},
   "source": [
    "Espaço reservado para fotos do babado"
   ]
  },
  {
   "cell_type": "code",
   "execution_count": 10,
   "metadata": {},
   "outputs": [],
   "source": [
    "def tf_idf(query):\n",
    "    M = noticias_estadao.size # Total de documentos\n",
    "    tf_idf_dict = {}\n",
    "    for termo in query:\n",
    "        for docId in general_dict[termo][termo].keys():\n",
    "            k = len(general_dict[termo][termo])\n",
    "            if docId in tf_idf_dict:               \n",
    "                tf_idf_dict[docId] += np.log((M+1)/k)\n",
    "            else:\n",
    "                tf_idf_dict[docId] = np.log((M+1)/k)\n",
    "    \n",
    "    tf_dict = tf(query)\n",
    "    \n",
    "    for docId in tf_dict.keys():\n",
    "        tf_idf_dict[docId] *= tf_dict[docId]\n",
    "    \n",
    "    return tf_idf_dict"
   ]
  },
  {
   "cell_type": "markdown",
   "metadata": {},
   "source": [
    "### BM25"
   ]
  },
  {
   "cell_type": "markdown",
   "metadata": {},
   "source": [
    "O **BM25** considera todos os critérios definidos previamente: **frequência do termo no documento**, **quantidade de documentos em que o termo aparece** e a **quantidade de documentos na base de dados**. Esse é o algoritmo mais robusto por apresentar um limite superior para o *score*, além de tratar de forma mais adequada a repetição abusiva de termos."
   ]
  },
  {
   "cell_type": "markdown",
   "metadata": {},
   "source": [
    "Espaço reservado para fotos da fórmula do bm25"
   ]
  },
  {
   "cell_type": "code",
   "execution_count": 11,
   "metadata": {},
   "outputs": [],
   "source": [
    "def bm25(query):\n",
    "    M = noticias_estadao.size\n",
    "    bm25_dict = {}\n",
    "    for termo in query:\n",
    "        for docId in general_dict[termo][termo].keys():\n",
    "            k = len(general_dict[termo][termo])\n",
    "            c = general_dict[termo][termo][docId]\n",
    "            if docId in bm25_dict:               \n",
    "                bm25_dict[docId] += (((k+1)*c)/(c+k))*np.log((M+1)/k)\n",
    "            else:\n",
    "                bm25_dict[docId] = (((k+1)*c)/(c+k))*np.log((M+1)/k)\n",
    "    return bm25_dict"
   ]
  },
  {
   "cell_type": "markdown",
   "metadata": {},
   "source": [
    "### Definição das funções de busca"
   ]
  },
  {
   "cell_type": "markdown",
   "metadata": {},
   "source": [
    "Vamos definir uma função **busca** que encapsula as funções acima:"
   ]
  },
  {
   "cell_type": "code",
   "execution_count": 12,
   "metadata": {},
   "outputs": [],
   "source": [
    "from enum import Enum\n",
    "\n",
    "class ALGORITMO_VSM(Enum):\n",
    "    BINARIO = 1\n",
    "    TF = 2\n",
    "    TFIDF = 3\n",
    "    BM25 = 4"
   ]
  },
  {
   "cell_type": "code",
   "execution_count": 13,
   "metadata": {},
   "outputs": [],
   "source": [
    "def busca(query_string, tipo_algoritmo):\n",
    "    query = query_string.split()\n",
    "    \n",
    "    scores = {}\n",
    "    \n",
    "    if tipo_algoritmo is ALGORITMO_VSM.BINARIO:\n",
    "        scores = representacao_binaria(query)\n",
    "    elif tipo_algoritmo is ALGORITMO_VSM.TF:\n",
    "        scores = tf(query)\n",
    "    elif tipo_algoritmo is ALGORITMO_VSM.TFIDF:\n",
    "        scores = tf_idf(query)\n",
    "    elif tipo_algoritmo is ALGORITMO_VSM.BM25:\n",
    "        scores = bm25(query)\n",
    "    else:\n",
    "        raise Exception(\"Algoritmo não reconhecido\")\n",
    "    \n",
    "    sorted_scores = sorted(scores.items(), key=operator.itemgetter(1), reverse = True)\n",
    "    \n",
    "    ids = []\n",
    "    for i in range(5):\n",
    "        ids.append(sorted_scores[i][0])\n",
    "\n",
    "    return ids\n",
    "        "
   ]
  },
  {
   "cell_type": "markdown",
   "metadata": {},
   "source": [
    "### Definindo função de medição de acertos/erros"
   ]
  },
  {
   "cell_type": "code",
   "execution_count": 14,
   "metadata": {},
   "outputs": [],
   "source": [
    "import numpy as np\n",
    "\n",
    "def apk(actual, predicted, k=10):\n",
    "    \"\"\"\n",
    "    Computes the average precision at k.\n",
    "\n",
    "    This function computes the average prescision at k between two lists of\n",
    "    items.\n",
    "\n",
    "    Parameters\n",
    "    ----------\n",
    "    actual : list\n",
    "             A list of elements that are to be predicted (order doesn't matter)\n",
    "    predicted : list\n",
    "                A list of predicted elements (order does matter)\n",
    "    k : int, optional\n",
    "        The maximum number of predicted elements\n",
    "\n",
    "    Returns\n",
    "    -------\n",
    "    score : double\n",
    "            The average precision at k over the input lists\n",
    "\n",
    "    \"\"\"\n",
    "    if len(predicted)>k:\n",
    "        predicted = predicted[:k]\n",
    "\n",
    "    score = 0.0\n",
    "    num_hits = 0.0\n",
    "\n",
    "    for i,p in enumerate(predicted):\n",
    "        if p in actual and p not in predicted[:i]:\n",
    "            num_hits += 1.0\n",
    "            score += num_hits / (i+1.0)\n",
    "\n",
    "    if not actual:\n",
    "        return 0.0\n",
    "\n",
    "    return score / min(len(actual), k)\n",
    "\n",
    "def mapk(actual, predicted, k=10):\n",
    "    \"\"\"\n",
    "    Computes the mean average precision at k.\n",
    "\n",
    "    This function computes the mean average prescision at k between two lists\n",
    "    of lists of items.\n",
    "\n",
    "    Parameters\n",
    "    ----------\n",
    "    actual : list\n",
    "             A list of lists of elements that are to be predicted \n",
    "             (order doesn't matter in the lists)\n",
    "    predicted : list\n",
    "                A list of lists of predicted elements\n",
    "                (order matters in the lists)\n",
    "    k : int, optional\n",
    "        The maximum number of predicted elements\n",
    "\n",
    "    Returns\n",
    "    -------\n",
    "    score : double\n",
    "            The mean average precision at k over the input lists\n",
    "\n",
    "    \"\"\"\n",
    "    return np.mean([apk(a,p,k) for a,p in zip(actual, predicted)])"
   ]
  },
  {
   "cell_type": "markdown",
   "metadata": {},
   "source": [
    "### Realizando as consultas"
   ]
  },
  {
   "cell_type": "markdown",
   "metadata": {},
   "source": [
    "As consultas serão realizadas considerando os seguintes termos:\n",
    "    1. segundo turno;\n",
    "    2. lava jato;\n",
    "    3. projeto de lei;\n",
    "    4. compra de voto.\n",
    "    5. ministério público."
   ]
  },
  {
   "cell_type": "markdown",
   "metadata": {},
   "source": [
    "#### segundo turno"
   ]
  },
  {
   "cell_type": "code",
   "execution_count": 15,
   "metadata": {},
   "outputs": [
    {
     "data": {
      "text/html": [
       "<div>\n",
       "<style scoped>\n",
       "    .dataframe tbody tr th:only-of-type {\n",
       "        vertical-align: middle;\n",
       "    }\n",
       "\n",
       "    .dataframe tbody tr th {\n",
       "        vertical-align: top;\n",
       "    }\n",
       "\n",
       "    .dataframe thead th {\n",
       "        text-align: right;\n",
       "    }\n",
       "</style>\n",
       "<table border=\"1\" class=\"dataframe\">\n",
       "  <thead>\n",
       "    <tr style=\"text-align: right;\">\n",
       "      <th></th>\n",
       "      <th>str_busca</th>\n",
       "      <th>google</th>\n",
       "      <th>busca_binaria</th>\n",
       "      <th>tf</th>\n",
       "      <th>tfidf</th>\n",
       "      <th>bm25</th>\n",
       "    </tr>\n",
       "  </thead>\n",
       "  <tbody>\n",
       "    <tr>\n",
       "      <th>0</th>\n",
       "      <td>segundo turno</td>\n",
       "      <td>[1062, 1942, 2161, 2078, 2073]</td>\n",
       "      <td>[2048, 1, 2049, 2050, 4096]</td>\n",
       "      <td>[2744, 7, 2112, 7672, 2388]</td>\n",
       "      <td>[2744, 2112, 7672, 1235, 2388]</td>\n",
       "      <td>[2744, 2112, 7672, 2388, 2178]</td>\n",
       "    </tr>\n",
       "    <tr>\n",
       "      <th>1</th>\n",
       "      <td>lava jato</td>\n",
       "      <td>[616, 164, 1734, 163, 6716]</td>\n",
       "      <td>[3, 13, 15, 27, 6177]</td>\n",
       "      <td>[163, 353, 2807, 127, 359]</td>\n",
       "      <td>[163, 353, 2807, 127, 359]</td>\n",
       "      <td>[163, 353, 2807, 127, 359]</td>\n",
       "    </tr>\n",
       "    <tr>\n",
       "      <th>2</th>\n",
       "      <td>projeto de lei</td>\n",
       "      <td>[2853, 275, 978, 7092, 3171]</td>\n",
       "      <td>[3584, 6145, 8194, 8706, 6660]</td>\n",
       "      <td>[7, 3942, 7017, 1250, 6942]</td>\n",
       "      <td>[2232, 6461, 2853, 3171, 3942]</td>\n",
       "      <td>[2232, 6461, 3171, 2853, 3170]</td>\n",
       "    </tr>\n",
       "    <tr>\n",
       "      <th>3</th>\n",
       "      <td>compra de voto</td>\n",
       "      <td>[2200, 8615, 2265, 7746, 82]</td>\n",
       "      <td>[7424, 2178, 6531, 5122, 2311]</td>\n",
       "      <td>[3942, 7017, 5129, 2047, 748]</td>\n",
       "      <td>[7343, 7293, 6791, 3942, 2047]</td>\n",
       "      <td>[7343, 7293, 6791, 7329, 8615]</td>\n",
       "    </tr>\n",
       "    <tr>\n",
       "      <th>4</th>\n",
       "      <td>ministério público</td>\n",
       "      <td>[64, 6652, 164, 6550, 8615]</td>\n",
       "      <td>[8194, 7, 4104, 8201, 4109]</td>\n",
       "      <td>[6798, 8018, 6244, 6965, 6550]</td>\n",
       "      <td>[6798, 8018, 6244, 6965, 6550]</td>\n",
       "      <td>[6798, 8018, 6244, 6965, 6550]</td>\n",
       "    </tr>\n",
       "  </tbody>\n",
       "</table>\n",
       "</div>"
      ],
      "text/plain": [
       "            str_busca                          google  \\\n",
       "0       segundo turno  [1062, 1942, 2161, 2078, 2073]   \n",
       "1           lava jato     [616, 164, 1734, 163, 6716]   \n",
       "2      projeto de lei    [2853, 275, 978, 7092, 3171]   \n",
       "3      compra de voto    [2200, 8615, 2265, 7746, 82]   \n",
       "4  ministério público     [64, 6652, 164, 6550, 8615]   \n",
       "\n",
       "                    busca_binaria                              tf  \\\n",
       "0     [2048, 1, 2049, 2050, 4096]     [2744, 7, 2112, 7672, 2388]   \n",
       "1           [3, 13, 15, 27, 6177]      [163, 353, 2807, 127, 359]   \n",
       "2  [3584, 6145, 8194, 8706, 6660]     [7, 3942, 7017, 1250, 6942]   \n",
       "3  [7424, 2178, 6531, 5122, 2311]   [3942, 7017, 5129, 2047, 748]   \n",
       "4     [8194, 7, 4104, 8201, 4109]  [6798, 8018, 6244, 6965, 6550]   \n",
       "\n",
       "                            tfidf                            bm25  \n",
       "0  [2744, 2112, 7672, 1235, 2388]  [2744, 2112, 7672, 2388, 2178]  \n",
       "1      [163, 353, 2807, 127, 359]      [163, 353, 2807, 127, 359]  \n",
       "2  [2232, 6461, 2853, 3171, 3942]  [2232, 6461, 3171, 2853, 3170]  \n",
       "3  [7343, 7293, 6791, 3942, 2047]  [7343, 7293, 6791, 7329, 8615]  \n",
       "4  [6798, 8018, 6244, 6965, 6550]  [6798, 8018, 6244, 6965, 6550]  "
      ]
     },
     "execution_count": 15,
     "metadata": {},
     "output_type": "execute_result"
    }
   ],
   "source": [
    "gabarito.head()"
   ]
  },
  {
   "cell_type": "code",
   "execution_count": 16,
   "metadata": {},
   "outputs": [
    {
     "name": "stdout",
     "output_type": "stream",
     "text": [
      "[1, 7, 13, 26, 69]\n",
      "[2744, 7, 2112, 7672, 2388]\n",
      "[2744, 7, 2112, 7672, 2388]\n",
      "[2744, 2112, 7672, 7, 2388]\n",
      "<class 'list'>\n"
     ]
    },
    {
     "ename": "TypeError",
     "evalue": "object of type 'int' has no len()",
     "output_type": "error",
     "traceback": [
      "\u001b[0;31m---------------------------------------------------------------------------\u001b[0m",
      "\u001b[0;31mTypeError\u001b[0m                                 Traceback (most recent call last)",
      "\u001b[0;32m<ipython-input-16-95eaf9e6f637>\u001b[0m in \u001b[0;36m<module>\u001b[0;34m()\u001b[0m\n\u001b[1;32m      8\u001b[0m \u001b[0mprint\u001b[0m\u001b[0;34m(\u001b[0m\u001b[0mtype\u001b[0m\u001b[0;34m(\u001b[0m\u001b[0ma\u001b[0m\u001b[0;34m)\u001b[0m\u001b[0;34m)\u001b[0m\u001b[0;34m\u001b[0m\u001b[0m\n\u001b[1;32m      9\u001b[0m \u001b[0;34m\u001b[0m\u001b[0m\n\u001b[0;32m---> 10\u001b[0;31m \u001b[0mmapk\u001b[0m\u001b[0;34m(\u001b[0m\u001b[0mgabarito\u001b[0m\u001b[0;34m.\u001b[0m\u001b[0mbusca_binaria\u001b[0m\u001b[0;34m,\u001b[0m \u001b[0ma\u001b[0m\u001b[0;34m,\u001b[0m \u001b[0mk\u001b[0m \u001b[0;34m=\u001b[0m \u001b[0;36m5\u001b[0m\u001b[0;34m)\u001b[0m\u001b[0;34m\u001b[0m\u001b[0m\n\u001b[0m",
      "\u001b[0;32m<ipython-input-14-c256ab0e88f7>\u001b[0m in \u001b[0;36mmapk\u001b[0;34m(actual, predicted, k)\u001b[0m\n\u001b[1;32m     63\u001b[0m \u001b[0;34m\u001b[0m\u001b[0m\n\u001b[1;32m     64\u001b[0m     \"\"\"\n\u001b[0;32m---> 65\u001b[0;31m     \u001b[0;32mreturn\u001b[0m \u001b[0mnp\u001b[0m\u001b[0;34m.\u001b[0m\u001b[0mmean\u001b[0m\u001b[0;34m(\u001b[0m\u001b[0;34m[\u001b[0m\u001b[0mapk\u001b[0m\u001b[0;34m(\u001b[0m\u001b[0ma\u001b[0m\u001b[0;34m,\u001b[0m\u001b[0mp\u001b[0m\u001b[0;34m,\u001b[0m\u001b[0mk\u001b[0m\u001b[0;34m)\u001b[0m \u001b[0;32mfor\u001b[0m \u001b[0ma\u001b[0m\u001b[0;34m,\u001b[0m\u001b[0mp\u001b[0m \u001b[0;32min\u001b[0m \u001b[0mzip\u001b[0m\u001b[0;34m(\u001b[0m\u001b[0mactual\u001b[0m\u001b[0;34m,\u001b[0m \u001b[0mpredicted\u001b[0m\u001b[0;34m)\u001b[0m\u001b[0;34m]\u001b[0m\u001b[0;34m)\u001b[0m\u001b[0;34m\u001b[0m\u001b[0m\n\u001b[0m",
      "\u001b[0;32m<ipython-input-14-c256ab0e88f7>\u001b[0m in \u001b[0;36m<listcomp>\u001b[0;34m(.0)\u001b[0m\n\u001b[1;32m     63\u001b[0m \u001b[0;34m\u001b[0m\u001b[0m\n\u001b[1;32m     64\u001b[0m     \"\"\"\n\u001b[0;32m---> 65\u001b[0;31m     \u001b[0;32mreturn\u001b[0m \u001b[0mnp\u001b[0m\u001b[0;34m.\u001b[0m\u001b[0mmean\u001b[0m\u001b[0;34m(\u001b[0m\u001b[0;34m[\u001b[0m\u001b[0mapk\u001b[0m\u001b[0;34m(\u001b[0m\u001b[0ma\u001b[0m\u001b[0;34m,\u001b[0m\u001b[0mp\u001b[0m\u001b[0;34m,\u001b[0m\u001b[0mk\u001b[0m\u001b[0;34m)\u001b[0m \u001b[0;32mfor\u001b[0m \u001b[0ma\u001b[0m\u001b[0;34m,\u001b[0m\u001b[0mp\u001b[0m \u001b[0;32min\u001b[0m \u001b[0mzip\u001b[0m\u001b[0;34m(\u001b[0m\u001b[0mactual\u001b[0m\u001b[0;34m,\u001b[0m \u001b[0mpredicted\u001b[0m\u001b[0;34m)\u001b[0m\u001b[0;34m]\u001b[0m\u001b[0;34m)\u001b[0m\u001b[0;34m\u001b[0m\u001b[0m\n\u001b[0m",
      "\u001b[0;32m<ipython-input-14-c256ab0e88f7>\u001b[0m in \u001b[0;36mapk\u001b[0;34m(actual, predicted, k)\u001b[0m\n\u001b[1;32m     23\u001b[0m \u001b[0;34m\u001b[0m\u001b[0m\n\u001b[1;32m     24\u001b[0m     \"\"\"\n\u001b[0;32m---> 25\u001b[0;31m     \u001b[0;32mif\u001b[0m \u001b[0mlen\u001b[0m\u001b[0;34m(\u001b[0m\u001b[0mpredicted\u001b[0m\u001b[0;34m)\u001b[0m\u001b[0;34m>\u001b[0m\u001b[0mk\u001b[0m\u001b[0;34m:\u001b[0m\u001b[0;34m\u001b[0m\u001b[0m\n\u001b[0m\u001b[1;32m     26\u001b[0m         \u001b[0mpredicted\u001b[0m \u001b[0;34m=\u001b[0m \u001b[0mpredicted\u001b[0m\u001b[0;34m[\u001b[0m\u001b[0;34m:\u001b[0m\u001b[0mk\u001b[0m\u001b[0;34m]\u001b[0m\u001b[0;34m\u001b[0m\u001b[0m\n\u001b[1;32m     27\u001b[0m \u001b[0;34m\u001b[0m\u001b[0m\n",
      "\u001b[0;31mTypeError\u001b[0m: object of type 'int' has no len()"
     ]
    }
   ],
   "source": [
    "print(busca(\"segundo turno\", ALGORITMO_VSM.BINARIO))\n",
    "print(busca(\"segundo turno\", ALGORITMO_VSM.TF))\n",
    "print(busca(\"segundo turno\", ALGORITMO_VSM.TFIDF))\n",
    "print(busca(\"segundo turno\", ALGORITMO_VSM.BM25))\n",
    "\n",
    "a = busca(\"segundo turno\", ALGORITMO_VSM.BINARIO)\n",
    "\n",
    "print(type(a))\n",
    "\n",
    "mapk(gabarito.busca_binaria, a, k = 5)"
   ]
  },
  {
   "cell_type": "markdown",
   "metadata": {},
   "source": [
    "#### lava jato"
   ]
  },
  {
   "cell_type": "code",
   "execution_count": null,
   "metadata": {},
   "outputs": [],
   "source": [
    "print(busca(\"lava jato\", ALGORITMO_VSM.BINARIO))\n",
    "print(busca(\"lava jato\", ALGORITMO_VSM.TF))\n",
    "print(busca(\"lava jato\", ALGORITMO_VSM.TFIDF))\n",
    "print(busca(\"lava jato\", ALGORITMO_VSM.BM25))"
   ]
  },
  {
   "cell_type": "markdown",
   "metadata": {},
   "source": [
    "#### projeto de lei"
   ]
  },
  {
   "cell_type": "code",
   "execution_count": null,
   "metadata": {},
   "outputs": [],
   "source": [
    "print(busca(\"projeto de lei\", ALGORITMO_VSM.BINARIO))\n",
    "print(busca(\"projeto de lei\", ALGORITMO_VSM.TF))\n",
    "print(busca(\"projeto de lei\", ALGORITMO_VSM.TFIDF))\n",
    "print(busca(\"projeto de lei\", ALGORITMO_VSM.BM25))"
   ]
  },
  {
   "cell_type": "markdown",
   "metadata": {},
   "source": [
    "#### compra de voto"
   ]
  },
  {
   "cell_type": "code",
   "execution_count": null,
   "metadata": {},
   "outputs": [],
   "source": [
    "print(busca(\"compra de voto\", ALGORITMO_VSM.BINARIO))\n",
    "print(busca(\"compra de voto\", ALGORITMO_VSM.TF))\n",
    "print(busca(\"compra de voto\", ALGORITMO_VSM.TFIDF))\n",
    "print(busca(\"compra de voto\", ALGORITMO_VSM.BM25))"
   ]
  },
  {
   "cell_type": "markdown",
   "metadata": {},
   "source": [
    "#### ministério público"
   ]
  },
  {
   "cell_type": "code",
   "execution_count": null,
   "metadata": {},
   "outputs": [],
   "source": [
    "print(busca(\"ministério público\", ALGORITMO_VSM.BINARIO))\n",
    "print(busca(\"ministério público\", ALGORITMO_VSM.TF))\n",
    "print(busca(\"ministério público\", ALGORITMO_VSM.TFIDF))\n",
    "print(busca(\"ministério público\", ALGORITMO_VSM.BM25))"
   ]
  }
 ],
 "metadata": {
  "kernelspec": {
   "display_name": "Python 3",
   "language": "python",
   "name": "python3"
  },
  "language_info": {
   "codemirror_mode": {
    "name": "ipython",
    "version": 3
   },
   "file_extension": ".py",
   "mimetype": "text/x-python",
   "name": "python",
   "nbconvert_exporter": "python",
   "pygments_lexer": "ipython3",
   "version": "3.6.4"
  }
 },
 "nbformat": 4,
 "nbformat_minor": 2
}
