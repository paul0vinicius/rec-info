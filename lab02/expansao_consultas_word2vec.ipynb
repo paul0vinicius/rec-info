{
 "cells": [
  {
   "cell_type": "markdown",
   "metadata": {},
   "source": [
    "# Laboratório 2: Expansão de consultas usando Word2Vec (gensim)"
   ]
  },
  {
   "cell_type": "markdown",
   "metadata": {},
   "source": [
    "Paulo Vinícius Soares  \n",
    "3 de Agosto de 2018"
   ]
  },
  {
   "cell_type": "markdown",
   "metadata": {},
   "source": [
    "## Introdução"
   ]
  },
  {
   "cell_type": "markdown",
   "metadata": {},
   "source": [
    "Olá! Essa análise se dá no contexto da disciplina de Recuperação da Informação e Busca na Web, no período de 2018.1, na Universidade Federal de Campina Grande (UFCG).  \n",
    "\n",
    "Nessa análise será feita uma expansão de termos de uma consulta utilizando a estratégia _word2vec_. A estratégia está melhor explicada neste [link](https://en.wikipedia.org/wiki/Word2vec) e serve para melhorar os resultados de uma busca baseado em termos com similaridade aceitável dentro de um conjunto de busca.  \n",
    "\n",
    "O conjunto de busca será a base de notícias do [Estadão](https://www.estadao.com.br/), no ano de 2014, e dentro do contexto de notícias eleitorais.  \n",
    "\n",
    "A análise está dividida em três partes: Primeiro será construído um modelo a partir do vocabulário extraído da base de dados das notícias; esse modelo servirá de base para a predição de palavras similares à um termo passado na busca, de forma que quanto mais semelhante, maior sua chance de ser retornado. Em seguida serão escolhidos três termos de consulta e efetuada uma busca a fim de verificar quais as palavras semelhantes retornadas pelo algoritmo. Por último, será verificado quais documentos foram retornados e um comparativo entre a busca normal e a busca utilizando _word2vec_."
   ]
  },
  {
   "cell_type": "markdown",
   "metadata": {},
   "source": [
    "## Preparando  _imports_ e dataset"
   ]
  },
  {
   "cell_type": "markdown",
   "metadata": {},
   "source": [
    "Para essa análise serão utilizadas as bibliotecas costumeiras, tais como _pandas_, _numpy_ e _nltk_. Além disso, a biblioteca _gensim_ possibilitará a utilização do _Word2Vec_ para o treino do modelo que será utilizado na previsão. Outras bibliotecas serão importadas para fins de melhor explicação do modelo e para tratamento dos dados."
   ]
  },
  {
   "cell_type": "code",
   "execution_count": 1,
   "metadata": {},
   "outputs": [],
   "source": [
    "import pandas as pd\n",
    "import numpy as np\n",
    "import nltk as nl\n",
    "import gensim as gs\n",
    "from nltk.corpus import stopwords\n",
    "from nltk.tokenize import RegexpTokenizer\n",
    "from gensim import corpora, models, similarities\n",
    "import re\n",
    "from gensim.models import Word2Vec\n",
    "from sklearn.decomposition import PCA\n",
    "from matplotlib import pyplot"
   ]
  },
  {
   "cell_type": "markdown",
   "metadata": {},
   "source": [
    "Nosso _dataset_ é o conjunto de notícias do Estadão contendo _timestamp_, _titulo_, _subTitulo_,_conteudo_,_url_ e _idNoticia_."
   ]
  },
  {
   "cell_type": "code",
   "execution_count": 2,
   "metadata": {},
   "outputs": [
    {
     "data": {
      "text/html": [
       "<div>\n",
       "<style scoped>\n",
       "    .dataframe tbody tr th:only-of-type {\n",
       "        vertical-align: middle;\n",
       "    }\n",
       "\n",
       "    .dataframe tbody tr th {\n",
       "        vertical-align: top;\n",
       "    }\n",
       "\n",
       "    .dataframe thead th {\n",
       "        text-align: right;\n",
       "    }\n",
       "</style>\n",
       "<table border=\"1\" class=\"dataframe\">\n",
       "  <thead>\n",
       "    <tr style=\"text-align: right;\">\n",
       "      <th></th>\n",
       "      <th>timestamp</th>\n",
       "      <th>titulo</th>\n",
       "      <th>subTitulo</th>\n",
       "      <th>conteudo</th>\n",
       "      <th>url</th>\n",
       "      <th>idNoticia</th>\n",
       "    </tr>\n",
       "  </thead>\n",
       "  <tbody>\n",
       "    <tr>\n",
       "      <th>0</th>\n",
       "      <td>2014-12-31T00:00:00Z</td>\n",
       "      <td>PT espera 30 mil pessoas em festa na Esplanada</td>\n",
       "      <td>Objetivo é demonstrar apoio popular a Dilma e ...</td>\n",
       "      <td>BRASÍLIA - Após o desgaste provocado com o lan...</td>\n",
       "      <td>http://politica.estadao.com.br/noticias/geral,...</td>\n",
       "      <td>1</td>\n",
       "    </tr>\n",
       "    <tr>\n",
       "      <th>1</th>\n",
       "      <td>2014-12-31T00:00:00Z</td>\n",
       "      <td>Alckmin toma posse de olho no Planalto</td>\n",
       "      <td>Governador reeleito tenta amarrar tucanos paul...</td>\n",
       "      <td>Reeleito em outubro, o governador tucano Geral...</td>\n",
       "      <td>http://politica.estadao.com.br/noticias/geral,...</td>\n",
       "      <td>2</td>\n",
       "    </tr>\n",
       "    <tr>\n",
       "      <th>2</th>\n",
       "      <td>2014-12-31T00:00:00Z</td>\n",
       "      <td>Seis obstáculos e desafios do segundo mandato ...</td>\n",
       "      <td>Em meio a escândalo de corrupção, presidente t...</td>\n",
       "      <td>1. Rearranjo das contas A nova equipe econôm...</td>\n",
       "      <td>http://politica.estadao.com.br/noticias/geral,...</td>\n",
       "      <td>3</td>\n",
       "    </tr>\n",
       "    <tr>\n",
       "      <th>3</th>\n",
       "      <td>2014-12-31T00:00:00Z</td>\n",
       "      <td></td>\n",
       "      <td>Veja as principais fotos do dia e dos eventos ...</td>\n",
       "      <td></td>\n",
       "      <td>http://fotos.estadao.com.br/fotos/politica,dil...</td>\n",
       "      <td>4</td>\n",
       "    </tr>\n",
       "    <tr>\n",
       "      <th>4</th>\n",
       "      <td>2014-12-31T00:00:00Z</td>\n",
       "      <td></td>\n",
       "      <td>Veja as principais fotos do dia e dos eventos ...</td>\n",
       "      <td></td>\n",
       "      <td>http://fotos.estadao.com.br/fotos/politica,dil...</td>\n",
       "      <td>5</td>\n",
       "    </tr>\n",
       "  </tbody>\n",
       "</table>\n",
       "</div>"
      ],
      "text/plain": [
       "              timestamp                                             titulo  \\\n",
       "0  2014-12-31T00:00:00Z     PT espera 30 mil pessoas em festa na Esplanada   \n",
       "1  2014-12-31T00:00:00Z             Alckmin toma posse de olho no Planalto   \n",
       "2  2014-12-31T00:00:00Z  Seis obstáculos e desafios do segundo mandato ...   \n",
       "3  2014-12-31T00:00:00Z                                                      \n",
       "4  2014-12-31T00:00:00Z                                                      \n",
       "\n",
       "                                           subTitulo  \\\n",
       "0  Objetivo é demonstrar apoio popular a Dilma e ...   \n",
       "1  Governador reeleito tenta amarrar tucanos paul...   \n",
       "2  Em meio a escândalo de corrupção, presidente t...   \n",
       "3  Veja as principais fotos do dia e dos eventos ...   \n",
       "4  Veja as principais fotos do dia e dos eventos ...   \n",
       "\n",
       "                                            conteudo  \\\n",
       "0  BRASÍLIA - Após o desgaste provocado com o lan...   \n",
       "1  Reeleito em outubro, o governador tucano Geral...   \n",
       "2    1. Rearranjo das contas A nova equipe econôm...   \n",
       "3                                                      \n",
       "4                                                      \n",
       "\n",
       "                                                 url  idNoticia  \n",
       "0  http://politica.estadao.com.br/noticias/geral,...          1  \n",
       "1  http://politica.estadao.com.br/noticias/geral,...          2  \n",
       "2  http://politica.estadao.com.br/noticias/geral,...          3  \n",
       "3  http://fotos.estadao.com.br/fotos/politica,dil...          4  \n",
       "4  http://fotos.estadao.com.br/fotos/politica,dil...          5  "
      ]
     },
     "execution_count": 2,
     "metadata": {},
     "output_type": "execute_result"
    }
   ],
   "source": [
    "df = pd.read_csv(\"../database/estadao_noticias_eleicao.csv\", encoding='utf-8')\n",
    "df = df.replace(np.nan, '', regex = True)\n",
    "content = df.titulo + \" \" + df.subTitulo + \" \" + df.conteudo\n",
    "content = content.fillna(\"\")\n",
    "df.head()"
   ]
  },
  {
   "cell_type": "markdown",
   "metadata": {},
   "source": [
    "### Efetuando limpeza nos dados"
   ]
  },
  {
   "cell_type": "markdown",
   "metadata": {},
   "source": [
    "Serão definidas três funções básicas para limpeza dos dados: Remoção de _stop words_ (palavras que não possuem valor semântico); números, tais como data e horas; uma função que deixe o texto todo minúsculo. Essas funções serão aplicadas no _content_ do _dataframe_, que é formado pelo título, subtítulo e corpo da notícia. Após essa limpeza, os dados estarão prontos para construir o vocabulário."
   ]
  },
  {
   "cell_type": "code",
   "execution_count": 3,
   "metadata": {},
   "outputs": [],
   "source": [
    "def remove_stopwords (text):\n",
    "    stopwords = set(nl.corpus.stopwords.words('portuguese'))\n",
    "    words = [i for i in text.split() if not i in stopwords]\n",
    "    return (\" \".join(words))\n",
    "\n",
    "def keep_letters_only(text):\n",
    "    return re.sub(r'[0-9]+', \" \", text)\n",
    "\n",
    "def standardize_text(text):\n",
    "    text = text.lower()\n",
    "    text = remove_stopwords(text)\n",
    "    text = keep_letters_only(text)\n",
    "    return text\n",
    "\n",
    "content = content.apply(standardize_text)"
   ]
  },
  {
   "cell_type": "markdown",
   "metadata": {},
   "source": [
    "### Criando os tokens e vocabulário"
   ]
  },
  {
   "cell_type": "markdown",
   "metadata": {},
   "source": [
    "Será criado o _tokenizer_ que dividirá as palavras por espaço e depois serão filtrados os tokens contidos nas _stop words_."
   ]
  },
  {
   "cell_type": "code",
   "execution_count": 4,
   "metadata": {},
   "outputs": [],
   "source": [
    "tokenizer = RegexpTokenizer(r'\\w+')\n",
    "tokens_lists = content.apply(lambda text: tokenizer.tokenize(text.lower()))\n",
    "\n",
    "stopword_ = stopwords.words('portuguese')\n",
    "filtered_tokens = tokens_lists.apply(lambda tokens: [token for token in tokens if token not in stopword_])"
   ]
  },
  {
   "cell_type": "markdown",
   "metadata": {},
   "source": [
    "## Treinando o modelo Word2Vec"
   ]
  },
  {
   "cell_type": "markdown",
   "metadata": {},
   "source": [
    "Antes de treinar o modelo, o parâmetro _min_count_ será escolhido a fim de melhorar o modelo. Esse parâmetro garante que a palavra dentro do modelo possua significância estatística e isso aumenta a precisão dos termos semelhantes retornados na maioria dos casos testados.  \n",
    "\n",
    "Para esse modelo foram escolhidas palavras que apareçam em, no mínimo, 10% das notícias disponíveis na base de dados."
   ]
  },
  {
   "cell_type": "code",
   "execution_count": 5,
   "metadata": {},
   "outputs": [],
   "source": [
    "from math import ceil\n",
    "count = ceil(len(df.index)*0.1)"
   ]
  },
  {
   "cell_type": "markdown",
   "metadata": {},
   "source": [
    "Agora, o modelo será treinado. O treinamento do modelo é bem direto, de forma que basta passar os tokens e a contagem mínima de termos. Existem outros parâmetros que podem ser passados no treinamento do modelo e podem ser vistos [aqui](https://radimrehurek.com/gensim/models/word2vec.html)."
   ]
  },
  {
   "cell_type": "code",
   "execution_count": 6,
   "metadata": {},
   "outputs": [
    {
     "name": "stdout",
     "output_type": "stream",
     "text": [
      "Word2Vec(vocab=406, size=100, alpha=0.025)\n"
     ]
    }
   ],
   "source": [
    "# train model\n",
    "model = Word2Vec(filtered_tokens, min_count=count)\n",
    "print(model)"
   ]
  },
  {
   "cell_type": "markdown",
   "metadata": {},
   "source": [
    "O tamanho do vocabulário reduziu bastante, é possível visualizar que este contém 406 vocábulos agora."
   ]
  },
  {
   "cell_type": "markdown",
   "metadata": {},
   "source": [
    "### Visualizando o modelo criado"
   ]
  },
  {
   "cell_type": "markdown",
   "metadata": {},
   "source": [
    "Após o treinamento do modelo é possível visualizar o vocabulário no espaço vetorial e ter uma noção de similaridade entre os termos. Isso será feito com o auxílio da biblioteca _pyplot_. Como o vocabulário é extenso, será feita uma seleção de 50 palavras e estas serão dispostas no gráfico representado em um espaço 2d."
   ]
  },
  {
   "cell_type": "code",
   "execution_count": 7,
   "metadata": {},
   "outputs": [
    {
     "name": "stderr",
     "output_type": "stream",
     "text": [
      "/home/paul0vinicius/anaconda3/lib/python3.6/site-packages/ipykernel_launcher.py:7: DeprecationWarning: Call to deprecated `__getitem__` (Method will be removed in 4.0.0, use self.wv.__getitem__() instead).\n",
      "  import sys\n"
     ]
    },
    {
     "data": {
      "image/png": "[encoded data removed]",
      "text/plain": [
       "<matplotlib.figure.Figure at 0x7f8840b40ac8>"
      ]
     },
     "metadata": {},
     "output_type": "display_data"
    }
   ],
   "source": [
    "keys = list(model.wv.vocab.keys())[:50]\n",
    "new_vocab = {}\n",
    "for key in keys:\n",
    "    new_vocab[key] = model.wv.vocab[key]\n",
    "    \n",
    "# fit a 2d PCA model to the vectors    \n",
    "X = model[new_vocab]\n",
    "pca = PCA(n_components=2)\n",
    "result = pca.fit_transform(X)\n",
    "\n",
    "# create a scatter plot of the projection\n",
    "pyplot.figure(figsize=(20, 12))\n",
    "pyplot.scatter(result[:, 0], result[:, 1])\n",
    "words = list(new_vocab)\n",
    "for i, word in enumerate(words):\n",
    "    pyplot.annotate(word, xy=(result[i, 0], result[i, 1]))\n",
    "    \n",
    "pyplot.show()"
   ]
  },
  {
   "cell_type": "markdown",
   "metadata": {},
   "source": [
    "É notório que termos como **dilma**, **pt** e **petista** estão relativamente próximos, além do grupo no canto superior formado por **ministério**, **secretaria**, entre outros. Dessa forma é possível inferir que o modelo foi treinado corretamente, haja visto que estes termos possuem ligação semântica."
   ]
  },
  {
   "cell_type": "markdown",
   "metadata": {},
   "source": [
    "## Testando a expansão utilizando termos de busca"
   ]
  },
  {
   "cell_type": "markdown",
   "metadata": {},
   "source": [
    "A expansão será testada para três termos e a função retornará os 3 termos mais parecidos, além da porcentagem de similaridade entre os termos. Os termos pesquisados serão **Corrupção**, **Petrobrás** e **Esquema**."
   ]
  },
  {
   "cell_type": "code",
   "execution_count": 8,
   "metadata": {},
   "outputs": [
    {
     "name": "stderr",
     "output_type": "stream",
     "text": [
      "/home/paul0vinicius/anaconda3/lib/python3.6/site-packages/gensim/matutils.py:737: FutureWarning: Conversion of the second argument of issubdtype from `int` to `np.signedinteger` is deprecated. In future, it will be treated as `np.int64 == np.dtype(int).type`.\n",
      "  if np.issubdtype(vec.dtype, np.int):\n"
     ]
    },
    {
     "data": {
      "text/plain": [
       "[('denúncias', 0.6672475934028625),\n",
       " ('esquema', 0.5765748620033264),\n",
       " ('investigações', 0.5194759368896484)]"
      ]
     },
     "execution_count": 8,
     "metadata": {},
     "output_type": "execute_result"
    }
   ],
   "source": [
    "model.wv.most_similar(positive=['corrupção'], topn=3)"
   ]
  },
  {
   "cell_type": "markdown",
   "metadata": {},
   "source": [
    "As palavras retornadas possuem sentido e estão dentro do contexto esperado das notícias. Nos documentos retornados espera-se que o conteúdo seja relacionado à denúncias, esquemas e investigações de corrupção."
   ]
  },
  {
   "cell_type": "code",
   "execution_count": 9,
   "metadata": {},
   "outputs": [
    {
     "name": "stderr",
     "output_type": "stream",
     "text": [
      "/home/paul0vinicius/anaconda3/lib/python3.6/site-packages/gensim/matutils.py:737: FutureWarning: Conversion of the second argument of issubdtype from `int` to `np.signedinteger` is deprecated. In future, it will be treated as `np.int64 == np.dtype(int).type`.\n",
      "  if np.issubdtype(vec.dtype, np.int):\n"
     ]
    },
    {
     "data": {
      "text/plain": [
       "[('estatal', 0.8926564455032349),\n",
       " ('petrobras', 0.8688519597053528),\n",
       " ('denúncias', 0.6686968803405762),\n",
       " ('esquema', 0.6202294826507568)]"
      ]
     },
     "execution_count": 9,
     "metadata": {},
     "output_type": "execute_result"
    }
   ],
   "source": [
    "model.wv.most_similar(positive=['petrobrás'], topn=4)"
   ]
  },
  {
   "cell_type": "markdown",
   "metadata": {},
   "source": [
    "Para este caso houve um pequeno ruído onde existem duas referências para a mesma coisa. Foram retornado os 4 termos mais parecidos já que um destes era basicamente ele mesmo. Duplicatas devem ser tratadas na limpeza dos dados e geração do vocábulo e é uma característica dos idiomas que possuem acentuação em suas palavras."
   ]
  },
  {
   "cell_type": "code",
   "execution_count": 10,
   "metadata": {},
   "outputs": [
    {
     "name": "stderr",
     "output_type": "stream",
     "text": [
      "/home/paul0vinicius/anaconda3/lib/python3.6/site-packages/gensim/matutils.py:737: FutureWarning: Conversion of the second argument of issubdtype from `int` to `np.signedinteger` is deprecated. In future, it will be treated as `np.int64 == np.dtype(int).type`.\n",
      "  if np.issubdtype(vec.dtype, np.int):\n"
     ]
    },
    {
     "data": {
      "text/plain": [
       "[('contratos', 0.7107760906219482),\n",
       " ('dinheiro', 0.6777316331863403),\n",
       " ('doleiro', 0.6601543426513672)]"
      ]
     },
     "execution_count": 10,
     "metadata": {},
     "output_type": "execute_result"
    }
   ],
   "source": [
    "model.wv.most_similar(positive=['esquema'], topn=3)"
   ]
  },
  {
   "cell_type": "markdown",
   "metadata": {},
   "source": [
    "Ao pesquisar pela palavra esquema são retornadas palavras referentes à dinheiro, contratos e o doleiro, possivelmente referindo-se à Petrobrás."
   ]
  },
  {
   "cell_type": "markdown",
   "metadata": {},
   "source": [
    "## Criando função para expansão da busca"
   ]
  },
  {
   "cell_type": "markdown",
   "metadata": {},
   "source": [
    "Uma função para encapsular a função *most_similar* deverá ser criada, então:"
   ]
  },
  {
   "cell_type": "code",
   "execution_count": 11,
   "metadata": {},
   "outputs": [],
   "source": [
    "def expansion(term, nterms):\n",
    "    terms = model.wv.most_similar(positive=[term], topn=nterms)\n",
    "    \n",
    "    expanded_terms = []\n",
    "    for t in terms:\n",
    "        expanded_terms.append(t[0])\n",
    "        \n",
    "    return expanded_terms"
   ]
  },
  {
   "cell_type": "markdown",
   "metadata": {},
   "source": [
    "## Criando o índice invertido para acessar os documentos"
   ]
  },
  {
   "cell_type": "markdown",
   "metadata": {},
   "source": [
    "Serão gerados os índices invertidos para as notícias, como de praxe."
   ]
  },
  {
   "cell_type": "code",
   "execution_count": 12,
   "metadata": {},
   "outputs": [],
   "source": [
    "def gera_tokens(df):\n",
    "    indexes = dict()\n",
    "    for index,row in df.iterrows():\n",
    "        title_tokens = (word.lower() for word in (nl.word_tokenize(row['titulo'])))\n",
    "        subtitle_tokens = (word.lower() for word in (nl.word_tokenize(row['subTitulo'])))\n",
    "        news_tokens = (word.lower() for word in (nl.word_tokenize(row['conteudo'])))\n",
    "        \n",
    "        tokens = list(title_tokens) +  list(subtitle_tokens) + list(news_tokens)\n",
    "        for token in tokens:\n",
    "            if token not in indexes:\n",
    "                indexes[token] = set([row['idNoticia']])\n",
    "            else:\n",
    "                indexes[token].add(row['idNoticia'])\n",
    "    return indexes"
   ]
  },
  {
   "cell_type": "code",
   "execution_count": 13,
   "metadata": {},
   "outputs": [],
   "source": [
    "inv_indexes = gera_tokens(df)"
   ]
  },
  {
   "cell_type": "markdown",
   "metadata": {},
   "source": [
    "## Escrevendo a função de busca OR e a consulta expandida"
   ]
  },
  {
   "cell_type": "markdown",
   "metadata": {},
   "source": [
    "A consulta expandida funciona fazendo um OR entre o termo passado e os termos retornados pela expansão, então serão definidas duas funções abaixo: Uma busca OR nos documentos e a busca completa (termo original + termos expandidos)."
   ]
  },
  {
   "cell_type": "code",
   "execution_count": 14,
   "metadata": {},
   "outputs": [],
   "source": [
    "def search_or(terms):\n",
    "    index = []\n",
    "    for term in terms:\n",
    "        index.append(inv_indexes[term])\n",
    "    return list(set.union(*index))\n",
    "\n",
    "\n",
    "def expanded_search(term):\n",
    "    terms_expanded = expansion(term, 3)\n",
    "    return [term] + terms_expanded"
   ]
  },
  {
   "cell_type": "markdown",
   "metadata": {},
   "source": [
    "### Usando busca or"
   ]
  },
  {
   "cell_type": "markdown",
   "metadata": {},
   "source": [
    "Os documentos retornados pesquisando pelo termo **corrupção** usando a busca simples são:"
   ]
  },
  {
   "cell_type": "code",
   "execution_count": 15,
   "metadata": {},
   "outputs": [
    {
     "name": "stdout",
     "output_type": "stream",
     "text": [
      "[1, 8194, 3, 7, 4104, 13, 15, 19, 8217, 27, 8221, 35, 8227, 42, 8236, 48, 49, 50, 51, 8241, 55, 56, 59, 61, 67, 68, 69, 72, 77, 8269, 79, 81, 86, 90, 91, 92, 95, 8287, 98, 99, 100, 101, 102, 104, 105, 106, 4209, 8306, 119, 8312, 8313, 126, 127, 8322, 137, 8332, 144, 145, 146, 147, 149, 150, 151, 152, 153, 154, 155, 156, 158, 159, 163, 164, 165, 167, 170, 8362, 172, 8363, 8364, 8366, 4273, 8370, 182, 185, 187, 191, 192, 8385, 8386, 195, 196, 197, 198, 201, 8393, 4299, 205, 208, 209, 8404, 213, 214, 8405, 220, 8414, 223, 8417, 228, 230, 231, 232, 236, 241, 242, 243, 8435, 8441, 250, 8443, 252, 8445, 4351, 257, 259, 260, 268, 271, 273, 8469, 280, 281, 8475, 8478, 289, 290, 291, 8483, 4391, 298, 301, 8494, 8495, 305, 8497, 307, 311, 8504, 314, 316, 4415, 8513, 322, 323, 8515, 4421, 327, 330, 8528, 337, 342, 343, 344, 8539, 348, 350, 351, 353, 356, 357, 358, 361, 362, 363, 4459, 8558, 367, 368, 370, 4473, 4479, 392, 4491, 8588, 397, 406, 4505, 8601, 8608, 4515, 8611, 8615, 8620, 429, 430, 431, 8623, 434, 435, 4531, 4536, 441, 442, 8633, 8637, 4544, 450, 454, 455, 8647, 4554, 459, 460, 4557, 8650, 4559, 464, 465, 8656, 8651, 468, 8659, 8665, 474, 475, 8668, 477, 8672, 483, 4580, 485, 8676, 487, 488, 498, 4595, 8695, 504, 505, 510, 512, 514, 515, 8708, 524, 4622, 527, 529, 530, 534, 535, 536, 540, 541, 545, 547, 551, 557, 559, 560, 561, 563, 565, 566, 567, 568, 569, 570, 571, 572, 573, 4671, 579, 583, 586, 587, 588, 593, 595, 601, 602, 4702, 609, 610, 613, 614, 616, 618, 619, 620, 624, 4732, 4733, 641, 643, 684, 685, 689, 692, 700, 707, 711, 712, 714, 722, 4819, 4820, 727, 4824, 729, 731, 736, 4835, 4842, 4845, 750, 4850, 757, 762, 769, 770, 772, 785, 794, 4897, 4903, 811, 813, 817, 818, 821, 826, 4924, 830, 834, 835, 838, 841, 842, 844, 849, 854, 858, 859, 863, 864, 870, 872, 873, 876, 877, 883, 4984, 889, 4985, 893, 4989, 4992, 4993, 899, 4997, 902, 4999, 906, 935, 940, 941, 5044, 951, 953, 961, 976, 979, 980, 982, 5085, 991, 5091, 5093, 998, 5102, 5107, 1021, 1023, 1027, 5123, 1030, 5132, 1040, 1046, 5144, 1054, 5150, 1062, 1067, 1068, 5165, 5166, 1071, 5168, 1074, 1076, 1080, 5178, 1090, 1098, 1106, 1107, 1108, 1110, 5215, 1123, 5226, 1139, 5247, 5249, 1155, 1161, 1166, 1171, 1173, 5270, 1176, 5285, 1192, 1194, 1202, 1203, 1204, 5300, 1206, 1208, 1210, 1213, 5309, 5311, 1217, 1221, 1222, 5318, 1224, 1225, 1227, 1230, 1231, 1232, 5332, 5337, 5341, 5342, 1250, 1251, 1252, 5353, 1257, 1259, 1260, 1261, 1263, 1265, 1270, 1272, 1273, 1280, 1284, 1285, 1289, 1296, 5393, 1300, 1301, 5396, 5400, 1305, 5415, 1321, 1331, 1334, 5433, 5435, 1341, 1346, 5445, 5449, 1356, 1359, 5464, 1369, 1372, 1376, 1379, 5475, 1382, 1391, 1410, 5509, 1421, 1437, 1438, 1441, 5547, 1458, 1459, 1487, 5585, 5586, 1493, 5589, 1501, 5605, 5606, 5607, 1521, 1523, 1528, 1529, 1530, 5634, 5635, 5637, 1545, 1546, 1548, 5646, 1558, 5654, 1564, 1565, 5660, 1577, 1578, 5682, 5684, 1590, 1592, 1594, 5695, 1600, 5697, 1604, 1610, 5707, 1615, 1616, 1617, 1618, 1622, 1641, 1642, 1644, 1653, 5750, 1660, 1667, 5764, 5765, 5766, 1674, 1675, 1690, 1691, 1692, 5786, 1696, 1698, 5795, 1705, 1706, 1708, 1716, 1718, 1722, 1733, 5834, 1739, 5835, 1741, 5836, 1743, 1744, 5837, 1748, 5846, 1751, 1755, 1757, 1760, 1761, 1768, 1771, 1772, 5868, 1780, 1781, 5881, 1786, 1788, 1797, 5894, 1802, 5899, 1804, 1809, 1823, 1832, 5928, 1834, 1835, 5936, 1844, 1852, 5971, 1877, 1889, 5986, 5992, 6013, 1930, 1931, 1939, 6037, 6039, 1944, 1949, 1950, 1952, 6052, 6056, 1965, 6061, 1968, 6064, 1978, 1979, 1981, 6081, 1987, 2000, 6096, 2011, 6115, 2021, 2023, 6123, 6125, 2034, 2035, 2043, 6141, 2046, 2047, 2048, 6145, 6173, 6178, 2098, 2101, 6220, 6221, 6224, 6225, 2132, 6239, 6240, 2145, 2148, 6244, 6247, 6249, 6254, 2167, 2176, 2178, 2185, 2188, 2190, 6293, 6299, 6306, 6312, 6322, 2240, 2244, 6347, 2252, 6349, 6360, 2267, 6363, 2273, 2277, 6386, 6387, 2297, 2299, 6395, 2302, 6398, 6399, 2314, 2315, 2317, 2318, 2319, 2322, 2324, 2330, 6432, 2340, 2341, 6439, 2345, 2347, 2348, 2349, 2355, 2357, 2363, 6460, 6463, 6466, 6477, 2386, 2395, 2397, 2412, 2421, 2425, 2429, 6526, 2431, 6529, 6531, 2437, 6534, 6552, 6554, 6565, 6566, 2471, 6568, 2487, 6590, 2496, 2497, 2504, 2510, 2511, 6606, 6607, 2515, 2518, 2519, 2520, 2523, 2524, 2526, 2527, 6628, 2533, 2535, 2542, 2548, 2549, 6645, 6647, 6651, 6652, 2557, 6663, 6664, 6666, 6675, 6685, 2591, 2593, 2594, 2596, 2598, 6694, 6696, 6699, 2611, 2612, 6709, 6712, 2618, 6716, 2627, 2628, 6727, 2638, 2640, 2647, 2648, 2649, 6751, 6761, 6763, 6765, 2673, 2682, 2688, 2691, 6795, 2701, 2703, 6801, 6803, 2712, 2718, 2719, 6818, 2728, 2736, 6838, 6853, 2759, 6855, 6859, 2766, 2773, 6872, 2777, 2793, 2795, 2797, 6893, 6894, 2805, 2807, 2811, 2812, 2814, 2826, 6928, 2836, 2838, 6942, 6945, 2853, 6950, 2859, 6956, 6959, 2865, 2868, 2870, 2871, 2873, 2877, 2886, 6988, 6990, 2895, 6991, 2908, 7011, 7017, 2922, 7020, 2926, 2930, 2934, 2935, 2937, 2940, 2943, 2944, 2947, 2948, 2951, 2954, 7053, 2961, 2963, 2965, 2966, 2969, 7072, 7073, 2980, 2986, 2989, 2991, 2992, 7088, 2995, 7094, 3017, 7113, 3025, 7122, 3030, 7126, 7132, 3046, 3047, 3048, 3050, 3051, 3052, 3056, 7157, 7161, 3066, 3067, 3071, 3072, 7167, 7174, 3080, 3081, 3086, 3087, 3088, 7183, 7196, 7205, 3125, 7221, 7225, 3137, 7236, 3141, 7240, 7245, 3153, 7252, 7253, 3158, 7255, 3160, 7257, 3163, 3168, 3179, 3180, 7275, 3189, 7286, 3191, 7288, 7291, 7292, 7294, 3199, 7297, 3206, 3214, 3215, 7316, 3222, 7319, 3225, 3230, 3234, 3236, 3241, 3243, 7340, 3245, 3249, 7345, 3261, 7363, 7364, 3272, 3274, 3275, 3277, 3280, 7378, 3286, 3287, 7385, 3291, 3296, 3299, 3301, 7397, 3303, 3305, 3306, 3309, 3312, 7409, 3317, 3318, 7414, 3323, 3331, 3335, 3337, 3338, 7439, 3345, 3346, 7441, 7443, 3349, 7444, 3355, 3361, 3362, 3364, 7466, 7469, 3379, 3381, 7479, 3384, 3385, 3386, 3387, 7481, 7482, 3390, 3394, 3401, 3402, 3403, 3404, 3414, 3417, 7515, 7516, 7517, 7518, 7521, 7524, 3440, 7539, 7540, 3447, 7548, 3458, 7566, 7567, 7568, 3488, 7585, 3497, 3508, 3516, 7612, 7616, 7617, 7625, 7632, 3542, 7638, 3545, 3586, 7694, 7700, 7704, 7706, 7711, 3617, 7726, 7728, 7733, 3639, 7740, 7762, 7763, 3673, 7809, 7816, 7817, 7828, 7829, 7833, 7834, 7835, 7836, 7837, 7841, 7844, 7849, 7850, 3758, 7867, 7877, 3782, 3788, 7885, 3796, 7896, 7902, 3807, 7919, 7920, 7924, 3848, 7948, 7962, 7965, 7966, 7974, 7980, 3903, 3904, 8001, 3917, 3920, 8018, 3924, 8021, 8034, 8035, 3941, 3942, 3943, 3944, 3945, 3951, 3952, 8059, 8060, 3972, 3984, 8094, 8098, 4012, 8118, 4023, 8134, 8136, 4043, 8145, 4052, 8154, 8157, 4080, 4086, 8185, 4092]\n"
     ]
    }
   ],
   "source": [
    "simple_search_corrupcao = search_or([\"corrupção\"])\n",
    "print(simple_search_corrupcao)"
   ]
  },
  {
   "cell_type": "markdown",
   "metadata": {},
   "source": [
    "Busca simples usando o termo **Petrobrás**:"
   ]
  },
  {
   "cell_type": "code",
   "execution_count": 16,
   "metadata": {},
   "outputs": [
    {
     "name": "stdout",
     "output_type": "stream",
     "text": [
      "[1, 3, 15, 27, 29, 35, 42, 43, 46, 50, 51, 54, 59, 67, 68, 72, 73, 76, 79, 80, 81, 86, 90, 91, 92, 95, 98, 99, 100, 101, 102, 105, 106, 112, 114, 117, 121, 122, 123, 126, 127, 137, 142, 143, 144, 145, 146, 149, 150, 151, 152, 154, 155, 156, 158, 159, 163, 164, 165, 167, 172, 173, 178, 182, 185, 191, 192, 196, 197, 201, 205, 208, 209, 211, 213, 214, 220, 223, 231, 236, 241, 243, 250, 252, 257, 258, 259, 260, 265, 268, 271, 272, 277, 4390, 298, 301, 302, 303, 305, 307, 311, 312, 314, 317, 323, 4424, 4425, 333, 342, 343, 344, 4443, 348, 350, 351, 352, 353, 354, 355, 356, 357, 358, 359, 360, 361, 362, 363, 4458, 4459, 4461, 368, 370, 8562, 4472, 377, 386, 392, 397, 4499, 4501, 406, 4502, 408, 422, 429, 430, 432, 434, 435, 436, 4533, 4536, 442, 443, 450, 4547, 454, 460, 464, 465, 468, 469, 472, 4569, 474, 475, 476, 477, 8671, 483, 485, 488, 4584, 4585, 4587, 498, 8692, 502, 504, 505, 4605, 511, 514, 4610, 516, 4614, 4618, 527, 528, 530, 4626, 4627, 533, 534, 535, 536, 4628, 4629, 539, 540, 541, 4636, 544, 545, 547, 548, 555, 557, 558, 559, 560, 561, 4655, 563, 564, 565, 567, 569, 571, 572, 573, 4667, 4671, 4674, 579, 581, 583, 587, 588, 593, 4689, 598, 599, 600, 601, 602, 605, 609, 612, 614, 616, 619, 620, 624, 634, 637, 641, 643, 648, 674, 684, 685, 689, 699, 700, 711, 714, 717, 724, 4820, 726, 727, 729, 4827, 4828, 733, 736, 738, 4842, 4843, 748, 749, 4845, 757, 4863, 4864, 769, 772, 4881, 4882, 4889, 4899, 813, 817, 818, 826, 834, 842, 844, 849, 854, 863, 868, 872, 873, 876, 877, 883, 890, 4997, 4999, 905, 906, 5024, 940, 941, 5037, 954, 5050, 957, 961, 968, 974, 976, 988, 5093, 998, 1009, 1027, 1039, 1046, 1061, 1062, 1063, 1079, 1080, 1082, 5178, 1089, 1094, 1098, 1102, 1106, 1107, 1108, 5227, 1148, 5247, 5251, 1175, 1190, 5288, 1206, 1210, 1213, 1215, 1217, 1218, 1230, 1232, 1242, 1243, 1247, 1249, 1250, 1251, 1252, 1257, 1260, 1261, 1263, 1264, 1265, 1270, 1273, 1297, 5393, 1300, 1302, 1305, 1341, 1352, 5455, 1369, 1372, 5469, 1377, 1382, 5489, 5502, 1411, 1412, 1421, 1441, 1457, 1458, 1459, 1464, 5561, 1470, 1472, 1476, 1479, 5577, 1484, 1485, 1486, 1487, 1489, 1491, 1499, 1503, 5607, 1518, 1520, 1545, 1548, 1558, 1567, 1571, 1578, 1584, 1590, 1596, 1598, 5694, 1615, 1617, 1622, 1629, 1640, 1643, 1644, 5741, 5744, 1653, 5752, 1666, 1670, 1674, 1675, 1678, 1691, 1692, 1694, 1698, 5799, 5800, 1706, 1722, 1725, 1730, 1733, 1734, 5829, 1736, 1739, 5836, 1741, 1742, 1743, 1744, 5837, 1748, 1751, 1755, 1757, 1760, 1761, 1766, 1771, 1772, 1780, 1781, 1786, 1787, 5886, 1794, 1795, 1797, 1800, 1803, 1804, 5901, 5903, 5907, 1814, 1816, 5912, 5914, 1819, 5916, 1821, 1823, 5922, 1832, 5928, 1834, 1844, 5942, 5946, 1852, 1863, 5962, 1877, 4449, 4452, 6021, 1931, 1945, 6050, 6052, 6056, 6064, 6075, 6083, 6086, 6092, 6102, 2011, 6107, 6111, 2023, 2034, 2035, 2039, 2047, 2048, 6177, 6178, 6183, 6190, 6201, 6205, 6206, 6220, 6235, 6253, 6254, 2167, 2185, 6283, 2190, 6294, 6304, 6308, 6324, 2244, 2246, 6346, 6350, 2259, 6356, 2266, 2267, 2268, 6368, 6369, 6381, 2289, 6387, 6388, 6389, 2297, 2298, 2302, 6400, 6406, 6407, 2312, 6410, 6411, 2318, 6415, 6416, 2322, 2324, 2325, 2326, 6433, 2340, 2341, 6436, 6437, 6441, 6443, 2348, 2355, 2357, 2362, 6466, 6479, 6488, 2395, 6496, 2407, 2412, 2417, 6513, 6519, 6522, 6523, 6524, 6526, 6527, 6531, 6534, 6537, 6542, 6554, 2462, 6558, 2471, 6572, 6589, 6590, 6592, 6593, 6600, 2510, 2511, 2515, 2525, 2527, 6631, 6634, 6637, 6639, 2549, 6647, 2557, 2558, 2562, 6659, 6661, 6662, 6663, 6675, 6676, 6679, 6681, 6685, 2591, 2593, 2594, 2598, 2602, 6701, 6702, 6708, 6709, 6712, 6715, 6716, 2621, 2623, 6722, 6727, 2632, 6736, 2641, 6737, 6738, 6741, 6742, 6749, 2658, 6755, 6756, 2661, 6760, 6761, 2667, 6763, 6765, 6769, 6778, 6783, 2688, 6785, 6786, 2691, 6790, 6791, 6793, 6796, 6799, 6803, 6813, 2718, 6815, 6824, 2734, 2736, 2742, 6838, 6840, 6852, 6853, 2759, 2764, 6860, 2771, 6868, 2773, 6869, 2777, 6873, 6875, 6880, 6888, 2793, 6889, 2795, 6890, 2797, 2798, 6893, 6898, 6901, 2807, 6903, 2811, 6911, 6913, 6914, 6918, 2823, 6919, 2826, 6926, 2835, 6934, 2839, 6941, 2850, 6950, 2855, 6954, 2859, 2860, 6955, 6956, 6957, 2865, 6961, 2868, 6964, 2873, 2875, 6976, 6977, 2886, 2888, 6988, 6990, 6991, 6995, 6997, 2902, 2906, 2908, 7009, 7010, 7014, 2920, 2921, 2925, 2926, 2927, 7029, 2934, 2935, 2936, 2937, 7032, 7035, 7036, 2942, 2944, 2946, 2948, 2951, 7047, 7048, 2954, 2961, 2966, 2969, 7067, 7070, 7073, 7078, 2989, 2990, 7085, 7094, 7100, 3006, 7111, 3017, 7113, 3026, 7122, 3030, 7130, 7131, 3036, 7132, 7133, 7136, 7142, 7144, 3050, 3056, 3057, 7155, 7159, 7161, 3073, 3078, 7174, 3081, 3083, 3084, 7180, 3086, 3087, 3088, 7185, 7187, 3094, 7190, 7192, 7195, 3100, 7196, 3106, 7203, 7205, 7211, 7214, 3123, 3124, 7225, 3133, 7229, 3137, 7233, 7235, 3141, 7240, 7242, 3151, 3158, 7257, 3163, 7262, 7263, 3168, 7264, 7265, 7272, 3179, 3180, 7275, 3183, 7279, 7283, 3189, 3191, 3192, 7287, 7290, 7291, 7292, 7293, 3198, 3200, 3202, 7298, 3206, 7302, 7303, 7304, 3210, 7305, 3212, 7306, 7307, 7312, 7313, 7314, 3219, 7315, 7316, 3222, 7319, 7322, 7323, 7329, 3236, 7332, 7333, 7334, 7336, 3241, 7339, 3245, 7341, 7342, 7343, 3249, 7347, 3254, 7350, 7353, 7354, 7355, 3260, 3264, 7361, 3267, 3269, 7366, 3272, 3274, 3277, 3281, 7378, 3287, 3291, 3293, 3296, 3299, 3303, 3305, 3309, 3310, 3312, 3319, 3326, 3330, 3333, 3334, 3337, 3338, 3342, 3343, 7441, 3347, 3348, 3352, 3353, 3355, 3361, 3362, 3363, 3367, 7466, 3372, 3375, 3384, 7480, 3387, 7483, 7485, 7487, 3392, 3393, 3394, 3399, 3400, 3401, 3402, 3404, 7506, 7507, 3413, 3414, 7513, 3418, 3419, 3424, 7521, 3428, 7524, 7526, 7528, 7530, 3435, 7532, 7534, 3440, 7540, 3447, 7546, 7548, 7557, 7562, 7567, 7568, 3488, 7585, 3508, 3523, 3534, 7632, 3542, 7638, 3545, 3563, 3575, 7685, 7703, 3653, 3661, 7764, 3673, 3674, 7770, 3691, 7787, 3732, 3796, 3802, 3854, 3855, 7951, 3860, 8000, 8012, 3917, 8013, 3920, 3931, 3941, 3942, 3943, 3944, 3946, 3951, 3963, 3965, 3972, 3986, 3994, 4007, 8105, 4013, 4022, 4036, 4052]\n"
     ]
    }
   ],
   "source": [
    "simple_search_petrobras = search_or([\"petrobrás\"])\n",
    "print(simple_search_petrobras)"
   ]
  },
  {
   "cell_type": "markdown",
   "metadata": {},
   "source": [
    "Usando o termo **esquema**:"
   ]
  },
  {
   "cell_type": "code",
   "execution_count": 17,
   "metadata": {},
   "outputs": [
    {
     "name": "stdout",
     "output_type": "stream",
     "text": [
      "[2048, 3, 6153, 6160, 22, 6168, 8217, 27, 35, 8228, 6185, 42, 8234, 45, 54, 55, 6199, 59, 8259, 68, 8262, 72, 79, 81, 86, 91, 92, 95, 6239, 97, 98, 99, 2146, 2148, 105, 106, 6254, 8304, 113, 117, 2166, 119, 2167, 2169, 123, 127, 2176, 8324, 2182, 137, 2188, 2190, 145, 149, 150, 152, 153, 154, 155, 2200, 158, 159, 163, 164, 165, 170, 8363, 172, 173, 6322, 185, 191, 195, 196, 197, 198, 2244, 201, 6347, 205, 208, 209, 8402, 213, 6360, 2267, 6363, 8414, 223, 8416, 8417, 241, 242, 6386, 6387, 8435, 249, 250, 6395, 252, 2302, 6399, 8447, 257, 258, 259, 260, 6408, 265, 8457, 268, 6412, 6413, 2319, 273, 6417, 6419, 277, 280, 281, 8478, 289, 291, 2340, 2341, 4389, 4391, 8485, 2345, 298, 4394, 2348, 301, 302, 4396, 305, 6449, 307, 2355, 8497, 4406, 311, 6456, 8504, 314, 316, 4413, 4416, 4418, 323, 4421, 4422, 327, 4424, 8518, 333, 6480, 6481, 8528, 2389, 8534, 343, 348, 6493, 351, 352, 353, 4452, 358, 359, 360, 361, 362, 2407, 4459, 4460, 2417, 370, 4465, 4473, 4474, 379, 2429, 6527, 389, 6533, 2439, 392, 393, 6538, 8588, 8589, 8595, 6549, 406, 4504, 4505, 8601, 8609, 421, 2471, 429, 433, 434, 435, 2486, 442, 443, 6587, 6590, 4544, 452, 454, 6598, 6600, 8647, 459, 460, 2511, 464, 465, 468, 4569, 474, 475, 476, 477, 2525, 6626, 4580, 485, 6628, 6631, 488, 4588, 2544, 498, 8691, 504, 505, 509, 2557, 511, 512, 4605, 514, 515, 516, 524, 527, 6671, 4627, 534, 535, 536, 538, 540, 541, 544, 547, 2597, 555, 2603, 557, 4653, 559, 560, 6701, 6702, 563, 564, 565, 566, 567, 568, 6712, 570, 571, 572, 573, 4667, 575, 6716, 579, 583, 2632, 587, 588, 593, 6738, 596, 6741, 599, 600, 601, 4702, 612, 614, 615, 616, 618, 619, 620, 2667, 624, 634, 6778, 637, 638, 641, 643, 2692, 6790, 648, 6793, 652, 6799, 657, 670, 671, 672, 674, 684, 685, 2736, 689, 692, 700, 6850, 711, 712, 6855, 2764, 6864, 2771, 2773, 727, 729, 6874, 733, 736, 737, 738, 6881, 6885, 2795, 4843, 2797, 4845, 6891, 752, 6900, 757, 2807, 769, 770, 6914, 772, 2823, 2826, 2829, 6925, 2835, 2838, 6942, 811, 817, 2865, 2870, 2871, 826, 830, 834, 4932, 841, 842, 844, 6988, 6991, 854, 2902, 858, 859, 2906, 868, 870, 872, 2920, 2921, 2923, 7019, 877, 2925, 2927, 2930, 7027, 2932, 2933, 2934, 2935, 2936, 7033, 2941, 7038, 2944, 2945, 2946, 2948, 4997, 2950, 2951, 4999, 2953, 906, 2954, 7053, 913, 2961, 7059, 2965, 7061, 2969, 922, 940, 2989, 2991, 2992, 950, 953, 954, 956, 957, 7100, 5056, 961, 3017, 3018, 974, 976, 3025, 3026, 3029, 5077, 3031, 3036, 5086, 991, 5093, 998, 1000, 3050, 5102, 3055, 7150, 7154, 7162, 1025, 3078, 3081, 7177, 3083, 3084, 7181, 3086, 3087, 1040, 3088, 3089, 5137, 7183, 3094, 3096, 3097, 7193, 3099, 5147, 7196, 5150, 7199, 3104, 5152, 7200, 7203, 7204, 1063, 3111, 5161, 7209, 5165, 5166, 5167, 3125, 1079, 1080, 5178, 5182, 3137, 7245, 7257, 3163, 5215, 3168, 7263, 7265, 1131, 3183, 3192, 7291, 3198, 3200, 3202, 3206, 1161, 3210, 7310, 7311, 1168, 1169, 3219, 3220, 5267, 3222, 1175, 1176, 5268, 5270, 7316, 1182, 3230, 1184, 1187, 3236, 1190, 5286, 3243, 1206, 3254, 1210, 1213, 3264, 5313, 7364, 3269, 3272, 1225, 1230, 3282, 7378, 3287, 5336, 3291, 5341, 5342, 3296, 1251, 1252, 3299, 3301, 3303, 7400, 1257, 3305, 3306, 1260, 1261, 3309, 1263, 1264, 1265, 3312, 3315, 7404, 1270, 3319, 1272, 1273, 3323, 3325, 3330, 1284, 3333, 3334, 3335, 1289, 3338, 3342, 3345, 1299, 1300, 1301, 1302, 1303, 3347, 1305, 3348, 3351, 3353, 3355, 3362, 5415, 7463, 5417, 7469, 3381, 1334, 3385, 1341, 3390, 3392, 3393, 3394, 3399, 3400, 3401, 3402, 3403, 3404, 3405, 5447, 7502, 3408, 3411, 3413, 3415, 1369, 3418, 3419, 1372, 3420, 5469, 3424, 7521, 1379, 1382, 3437, 7533, 1391, 3440, 5489, 7540, 3447, 7544, 5497, 5499, 7547, 7548, 1409, 7553, 1411, 7554, 7560, 7562, 1421, 7566, 7567, 7568, 5525, 7581, 3488, 1441, 1442, 1449, 5547, 1456, 3504, 5556, 7616, 7626, 1485, 5582, 3543, 3563, 1518, 1520, 7674, 5635, 1545, 7694, 7700, 1558, 7702, 7706, 7711, 7716, 1577, 1578, 1581, 1582, 7726, 7733, 1590, 7735, 1598, 7746, 7747, 3652, 5700, 7749, 7755, 7762, 7769, 7770, 7775, 1643, 1644, 7787, 5744, 1660, 5759, 7809, 7816, 7817, 7821, 1678, 7824, 5778, 7826, 5780, 5783, 7832, 1691, 1692, 7836, 7837, 7839, 1698, 5794, 5799, 1705, 1706, 7849, 7855, 1722, 7871, 1733, 7877, 1739, 7885, 7886, 1744, 7888, 7889, 1755, 1757, 1758, 7902, 1761, 5857, 1771, 1772, 7923, 1780, 1781, 7926, 1787, 1796, 1797, 1800, 3850, 1804, 3858, 1813, 1814, 1816, 1819, 5915, 1821, 5916, 5919, 7973, 7974, 5927, 7976, 7987, 1852, 5961, 3917, 1871, 3920, 5968, 8033, 5986, 8038, 3943, 3944, 3945, 1898, 3951, 3965, 1930, 1931, 3986, 8092, 8093, 8101, 6056, 6062, 6075, 6083, 6086, 8144, 8150, 8154, 4059, 8157, 8163, 2023, 6123, 4086, 8184]\n"
     ]
    }
   ],
   "source": [
    "simple_search_esquema = search_or([\"esquema\"])\n",
    "print(simple_search_esquema)"
   ]
  },
  {
   "cell_type": "markdown",
   "metadata": {},
   "source": [
    "### Usando a busca expandida"
   ]
  },
  {
   "cell_type": "markdown",
   "metadata": {},
   "source": [
    "Usando o termo **corrupção** para a busca expandida:"
   ]
  },
  {
   "cell_type": "code",
   "execution_count": 18,
   "metadata": {},
   "outputs": [
    {
     "name": "stdout",
     "output_type": "stream",
     "text": [
      "[1, 8194, 3, 7, 4104, 13, 15, 19, 21, 22, 8217, 27, 8221, 35, 8227, 8228, 42, 8234, 8236, 45, 48, 49, 50, 51, 8241, 8244, 54, 55, 56, 53, 59, 61, 67, 68, 69, 8259, 8262, 72, 76, 77, 8269, 79, 80, 81, 86, 8279, 89, 90, 91, 92, 95, 8287, 97, 98, 99, 100, 101, 102, 4193, 104, 105, 106, 8304, 4209, 8306, 113, 114, 117, 118, 119, 8312, 8313, 122, 123, 126, 127, 128, 8322, 8324, 8326, 137, 8332, 144, 145, 146, 147, 149, 150, 151, 152, 153, 154, 155, 156, 158, 159, 160, 4258, 163, 164, 165, 167, 168, 170, 8362, 172, 8363, 8364, 8366, 173, 4273, 8370, 175, 178, 182, 8374, 185, 4281, 187, 189, 191, 192, 8385, 8386, 195, 196, 197, 198, 193, 201, 8393, 4299, 205, 208, 209, 8402, 210, 8404, 213, 214, 8405, 220, 8414, 223, 8416, 8417, 228, 230, 231, 232, 236, 241, 242, 243, 8435, 248, 8441, 250, 8443, 252, 8445, 249, 4351, 8447, 257, 258, 259, 260, 8451, 265, 8457, 268, 271, 273, 8469, 277, 280, 281, 8472, 8475, 283, 8478, 289, 290, 291, 8483, 293, 4389, 4391, 8485, 4390, 298, 4394, 4396, 301, 8494, 8495, 302, 305, 8497, 307, 304, 306, 4406, 311, 8504, 314, 8506, 316, 4413, 8507, 4415, 4416, 8513, 322, 323, 8515, 4421, 4418, 327, 4424, 4425, 330, 4422, 8518, 333, 4431, 8528, 337, 4433, 4435, 342, 343, 344, 8534, 4441, 8539, 348, 4444, 350, 351, 352, 353, 8537, 355, 356, 357, 358, 8549, 4456, 361, 362, 363, 4459, 4458, 8558, 367, 368, 4460, 370, 4461, 8556, 4465, 4473, 4474, 4475, 379, 4479, 389, 392, 393, 4491, 8588, 397, 8589, 8593, 8595, 406, 4504, 4505, 8601, 8608, 8609, 4515, 8611, 421, 8612, 8615, 422, 8620, 429, 430, 431, 8623, 433, 434, 435, 4531, 432, 4535, 4536, 441, 442, 8633, 443, 8637, 4544, 450, 452, 453, 454, 455, 8647, 4554, 459, 460, 4557, 8650, 4559, 464, 465, 8656, 8651, 468, 8659, 472, 8665, 474, 475, 8668, 477, 4569, 476, 8672, 4575, 483, 4580, 485, 8676, 487, 488, 4581, 4585, 4587, 4588, 498, 4595, 8691, 499, 502, 8695, 504, 505, 503, 4601, 4605, 510, 509, 512, 511, 514, 515, 8708, 516, 513, 8704, 518, 524, 4622, 527, 528, 529, 530, 4627, 534, 535, 536, 538, 540, 541, 544, 545, 547, 551, 4650, 555, 557, 4653, 559, 560, 561, 4655, 563, 4660, 565, 566, 567, 568, 569, 570, 571, 572, 573, 4668, 4671, 4667, 575, 4674, 579, 7442, 581, 583, 4679, 4680, 586, 587, 588, 589, 593, 594, 595, 596, 597, 598, 599, 600, 601, 602, 4702, 609, 610, 612, 613, 614, 615, 616, 618, 619, 620, 4715, 624, 627, 634, 4732, 4733, 637, 638, 641, 643, 648, 649, 4744, 652, 657, 670, 671, 672, 674, 678, 684, 685, 689, 691, 692, 695, 700, 707, 711, 712, 714, 4815, 722, 4819, 4820, 726, 727, 4824, 729, 4823, 731, 733, 4829, 735, 736, 737, 738, 4835, 4842, 4843, 4845, 750, 749, 752, 4850, 757, 758, 762, 4864, 769, 770, 772, 4879, 785, 4881, 4882, 794, 4890, 797, 4897, 4898, 4903, 811, 813, 817, 818, 821, 826, 4924, 830, 834, 835, 4930, 4933, 838, 4932, 841, 842, 4937, 844, 849, 854, 4952, 4953, 858, 859, 863, 864, 868, 870, 872, 873, 876, 877, 878, 879, 880, 883, 4984, 889, 4985, 890, 893, 4989, 4992, 4993, 897, 899, 4997, 902, 4999, 906, 908, 909, 910, 913, 922, 928, 935, 5033, 5034, 940, 941, 5036, 5037, 5044, 950, 951, 953, 954, 956, 957, 5056, 961, 5058, 968, 974, 976, 979, 980, 5077, 982, 988, 5085, 5086, 991, 5091, 5093, 998, 1000, 5102, 1009, 1010, 5107, 1021, 1023, 1025, 1027, 5123, 1030, 5132, 1039, 1040, 5137, 1046, 5144, 5147, 1054, 5150, 1056, 5152, 1062, 1063, 5160, 5161, 1067, 1068, 5165, 5166, 1071, 5168, 5167, 1074, 1076, 1079, 1080, 5178, 5182, 1089, 1090, 1092, 1096, 1098, 1102, 1106, 1107, 1108, 1110, 5215, 1123, 5226, 1131, 5234, 1139, 5240, 1145, 1148, 5247, 5249, 1155, 1161, 1166, 1168, 1169, 1171, 5267, 1173, 5270, 1175, 1176, 5268, 1182, 1184, 1187, 5285, 1190, 5286, 1192, 1194, 5291, 1202, 1203, 1204, 5300, 1206, 1208, 5305, 1210, 1213, 5309, 5311, 1217, 5313, 1219, 1221, 1222, 5318, 1224, 1225, 1227, 1230, 1231, 1232, 5332, 5336, 5337, 1241, 1242, 1244, 5341, 5342, 1247, 1249, 1250, 1251, 1252, 5353, 1257, 1259, 1260, 1261, 1263, 1264, 1265, 1270, 1272, 1273, 1275, 1280, 1284, 1285, 1289, 5388, 1296, 5393, 1297, 1299, 1300, 1301, 5396, 1302, 5400, 1305, 1303, 5410, 5415, 1321, 5417, 1331, 1334, 5433, 1338, 5435, 1341, 1346, 5445, 5447, 1352, 5449, 1356, 1359, 5464, 1369, 1371, 1372, 5469, 1376, 1379, 5475, 1381, 1382, 1391, 5489, 5497, 5499, 1409, 1410, 5507, 1411, 5509, 1413, 1412, 1421, 5525, 1437, 1438, 1441, 1442, 1449, 5547, 1456, 1457, 1458, 1459, 5556, 1464, 1472, 1476, 1478, 1485, 1486, 1487, 5582, 5585, 5586, 1489, 1493, 5589, 5590, 5591, 1501, 5605, 5606, 5607, 1518, 1520, 1521, 1523, 5619, 5621, 1528, 1529, 1530, 5624, 5633, 5634, 5635, 5637, 1541, 1543, 1545, 1546, 1548, 5646, 1552, 5652, 1558, 5654, 1564, 1565, 5660, 1567, 1577, 1578, 1581, 1582, 5682, 5684, 1590, 1592, 1594, 5694, 5695, 1600, 5697, 1598, 1604, 5700, 1610, 5707, 1615, 1616, 1617, 1618, 1622, 1624, 1628, 1629, 1639, 1640, 1641, 1642, 1643, 1644, 5744, 1653, 5750, 1656, 5752, 5755, 1660, 5759, 1667, 5764, 5765, 5766, 1674, 1675, 1678, 5778, 5780, 5783, 1690, 1691, 1692, 5786, 1696, 1698, 5795, 5794, 5799, 5800, 1705, 1706, 1708, 1716, 1718, 5817, 1722, 4414, 1730, 1733, 1736, 5834, 1739, 5835, 1741, 5836, 1743, 1744, 5837, 1748, 5846, 1751, 1755, 1757, 1758, 1760, 1761, 5857, 1768, 1771, 1772, 5868, 5867, 1780, 1781, 5876, 5881, 1786, 1787, 1788, 1796, 1797, 5894, 1800, 1802, 5899, 1804, 1803, 359, 1809, 360, 1813, 1814, 1816, 5914, 1819, 5915, 5917, 1821, 1823, 5916, 5919, 5927, 1832, 5928, 1834, 1835, 5936, 1844, 5942, 1852, 5961, 1871, 5968, 4443, 5971, 1877, 5978, 1888, 1889, 5986, 5989, 5992, 5993, 1898, 6000, 6013, 4452, 1930, 1931, 6032, 1939, 6037, 6039, 1944, 6043, 1949, 1950, 1952, 6051, 6052, 6054, 6056, 1965, 6061, 6062, 1968, 6064, 6065, 6072, 1978, 1979, 6074, 1981, 6075, 1982, 6081, 1987, 6083, 6085, 6086, 6084, 2000, 6096, 2011, 6107, 6111, 6115, 2021, 2023, 6123, 6124, 6125, 2033, 2034, 2035, 6133, 6136, 2043, 6141, 2046, 2047, 2048, 6145, 6146, 6153, 6160, 6161, 6167, 6168, 6173, 2079, 6178, 6182, 6184, 6185, 6188, 6191, 2098, 2101, 6199, 6206, 6211, 6218, 6219, 6220, 6221, 6222, 6224, 6225, 2132, 6239, 6240, 2145, 6241, 2146, 2148, 6244, 6247, 6249, 6253, 6254, 6259, 6260, 2166, 2167, 6262, 2169, 6263, 2176, 2178, 6277, 2182, 6279, 2185, 6283, 2188, 2190, 6293, 2200, 6299, 6304, 6306, 6308, 6311, 6312, 6322, 6324, 2237, 2240, 2243, 2244, 2246, 6346, 6347, 2252, 6349, 6360, 2267, 6363, 6368, 2273, 6369, 2277, 6381, 2288, 2289, 6386, 6387, 2292, 6389, 6391, 2297, 2298, 2299, 6395, 2302, 6398, 6399, 6407, 6408, 2314, 2315, 6411, 2317, 2318, 2319, 6416, 6412, 2322, 6413, 2324, 6417, 2326, 6419, 6415, 6425, 2330, 2333, 6429, 6432, 2340, 2341, 6436, 6439, 6437, 2345, 6441, 2347, 2348, 2349, 6443, 6448, 6449, 2355, 2357, 2358, 2359, 6456, 6458, 2363, 6460, 6463, 6466, 2371, 6467, 2379, 6477, 2384, 6480, 2386, 6481, 2389, 2395, 2397, 6493, 2402, 6502, 2407, 6504, 6505, 2412, 2413, 2417, 2421, 2425, 2429, 6526, 2431, 6527, 6529, 6531, 2435, 2437, 6534, 6533, 2439, 2441, 6538, 6541, 6543, 6548, 6549, 6550, 6552, 6554, 6555, 6565, 6566, 2471, 6568, 6574, 6577, 6579, 2486, 2487, 6587, 6590, 2496, 2497, 6592, 6595, 6598, 2503, 2504, 6600, 2510, 2511, 6606, 6607, 6609, 2515, 6612, 2518, 2519, 2520, 2523, 2524, 2525, 2526, 2527, 6619, 6625, 6626, 6628, 2533, 2535, 6631, 6634, 6637, 2542, 2544, 6640, 2548, 2549, 6645, 6647, 6651, 6652, 2557, 6663, 6664, 6666, 2571, 2573, 6671, 6675, 6685, 2591, 2593, 2594, 2596, 2597, 2598, 6694, 6696, 6697, 2602, 6699, 2603, 6701, 6702, 2611, 2612, 6709, 2613, 2614, 6712, 2616, 2618, 6714, 6716, 6715, 2627, 2628, 7035, 2630, 6727, 2632, 2638, 6734, 2640, 6736, 2642, 6738, 6735, 6741, 2647, 2648, 2649, 6751, 2661, 6761, 6763, 2667, 6765, 6767, 2673, 6769, 2682, 6779, 6778, 2683, 2688, 6785, 2691, 2692, 6790, 6793, 6795, 6796, 2701, 6798, 2703, 6799, 6801, 6803, 2712, 6812, 6813, 2718, 2719, 2721, 6818, 6820, 6823, 2728, 6824, 6831, 2736, 6832, 6834, 6838, 2742, 6850, 6853, 2759, 6855, 6859, 6860, 2764, 2766, 6864, 2771, 2773, 6872, 2777, 6873, 6874, 6881, 6885, 2793, 2795, 6891, 2797, 6893, 6894, 6898, 6900, 2805, 6901, 2807, 6903, 2811, 2812, 6907, 2814, 6911, 2815, 6913, 6914, 6918, 6919, 2823, 2826, 2829, 6925, 6928, 6929, 6930, 2835, 2836, 6933, 2838, 564, 2834, 6934, 6939, 6942, 6945, 2853, 6950, 2859, 6956, 6959, 2865, 6961, 2868, 6964, 2870, 2871, 2873, 2877, 6976, 6977, 2886, 6986, 2891, 6988, 6990, 2895, 6991, 6992, 6995, 6997, 2902, 6998, 2906, 2908, 7011, 7013, 7014, 2920, 7017, 2922, 2921, 7020, 2923, 2926, 7022, 7019, 2925, 2930, 2927, 7027, 7029, 2934, 2935, 2932, 2937, 2933, 2936, 2940, 2941, 7033, 2943, 2944, 7038, 2945, 2947, 2948, 2946, 2950, 2951, 7047, 2953, 2954, 7048, 7049, 7053, 7055, 2961, 2963, 7059, 2965, 2966, 7061, 2968, 2969, 7070, 7072, 7073, 2979, 2980, 7077, 2986, 7082, 2989, 2991, 2992, 7088, 2995, 7094, 7100, 7111, 3017, 7113, 3018, 3025, 7122, 3026, 3029, 3030, 7126, 3031, 7131, 7132, 7133, 3036, 3046, 3047, 3048, 7145, 3050, 3051, 3052, 7150, 3055, 3056, 3057, 7153, 7155, 7154, 7157, 7156, 7159, 7161, 3066, 3067, 7162, 3071, 3072, 7167, 7173, 7174, 7175, 3080, 3081, 3078, 7177, 7180, 3083, 3086, 3087, 3088, 7183, 3084, 7181, 3089, 7187, 3094, 3096, 7193, 3097, 3099, 7196, 7199, 3104, 7200, 3106, 7203, 7204, 7205, 3103, 3111, 7209, 7213, 7218, 3125, 7221, 7223, 7224, 7225, 3129, 7228, 7229, 3133, 3137, 7235, 7236, 3141, 7240, 7245, 3151, 7248, 3153, 7250, 7252, 7253, 3158, 7255, 3160, 7257, 3163, 7262, 7263, 3168, 7264, 7265, 7272, 3179, 3180, 7275, 3183, 7282, 7283, 3189, 7286, 3191, 7288, 3192, 7291, 7292, 7294, 3199, 3198, 7297, 3202, 3200, 3206, 7306, 3210, 3212, 3214, 3215, 7310, 7311, 3219, 7316, 3220, 3222, 7319, 3225, 3230, 3234, 3236, 7334, 7336, 3241, 3243, 7340, 3245, 3249, 7345, 3251, 3254, 3255, 3260, 3261, 3264, 3265, 7363, 7364, 7365, 7366, 3269, 3272, 3274, 3275, 3277, 3280, 7378, 3282, 7379, 3286, 3287, 3288, 7385, 3291, 3293, 7390, 3296, 3299, 3301, 7397, 3303, 7400, 3305, 3306, 7401, 7404, 3309, 3312, 7409, 3315, 7412, 3317, 3318, 7414, 3319, 3323, 7419, 3325, 7422, 3328, 7425, 3330, 3331, 3333, 3334, 3335, 3337, 3338, 3342, 7439, 3345, 3346, 7441, 7443, 3349, 7444, 3351, 3347, 3353, 3348, 3355, 7446, 3352, 3361, 3362, 3364, 7461, 7463, 7466, 7469, 3379, 3380, 3381, 7479, 3384, 3385, 3386, 3387, 7481, 7482, 3390, 7484, 3389, 7485, 3394, 7487, 3393, 3392, 3399, 3400, 3401, 3402, 3403, 3404, 3405, 3406, 7502, 3408, 3411, 7507, 3413, 3414, 3415, 7511, 3417, 3418, 7515, 7516, 7517, 7518, 3419, 7512, 7521, 3424, 3420, 7524, 7526, 7528, 7530, 7532, 3437, 7534, 7533, 3440, 7535, 7539, 7540, 3447, 7544, 7546, 7547, 7548, 3452, 7549, 7551, 7553, 3458, 7554, 7555, 7557, 7560, 7562, 7566, 7567, 7568, 7581, 3488, 7585, 7588, 3496, 3497, 3504, 3508, 3516, 7612, 3518, 7616, 7617, 7625, 7626, 7632, 3542, 7638, 3543, 3545, 3554, 3563, 7674, 3582, 7679, 3586, 7682, 3588, 7694, 7699, 7700, 7701, 7702, 7704, 7706, 3613, 7711, 3617, 7716, 7726, 7728, 7733, 3639, 7735, 7740, 7746, 7747, 3652, 7749, 7755, 7762, 7763, 3673, 7769, 7770, 3674, 7775, 3682, 3683, 7787, 3705, 7804, 7805, 7806, 7807, 7808, 7809, 3709, 7816, 7817, 7821, 7824, 7826, 7828, 7829, 7832, 7833, 7834, 7835, 7836, 7837, 7839, 7841, 7844, 3748, 7849, 7850, 3758, 7855, 7867, 7870, 7871, 7877, 3782, 3788, 7885, 7886, 7888, 7889, 3796, 7895, 7896, 3801, 7902, 3807, 3808, 3815, 7911, 7918, 7919, 7920, 7923, 7924, 7926, 7927, 7931, 3848, 7944, 3850, 7948, 3858, 7958, 3863, 7962, 7965, 7966, 7973, 7974, 7976, 7980, 7985, 7987, 3903, 3904, 8001, 8009, 3917, 3920, 8018, 3924, 8021, 8033, 8034, 8035, 3941, 3942, 3943, 3944, 3945, 8038, 3950, 3951, 3952, 8059, 8060, 3965, 8063, 3972, 3984, 3986, 8092, 8093, 8094, 8098, 8101, 4012, 4013, 8118, 4023, 8119, 4024, 8134, 8136, 4043, 8144, 8145, 4052, 8150, 8154, 4059, 8157, 8163, 4080, 4086, 8184, 8185, 4092]\n"
     ]
    },
    {
     "name": "stderr",
     "output_type": "stream",
     "text": [
      "/home/paul0vinicius/anaconda3/lib/python3.6/site-packages/gensim/matutils.py:737: FutureWarning: Conversion of the second argument of issubdtype from `int` to `np.signedinteger` is deprecated. In future, it will be treated as `np.int64 == np.dtype(int).type`.\n",
      "  if np.issubdtype(vec.dtype, np.int):\n"
     ]
    }
   ],
   "source": [
    "exp_search_corrupcao = search_or(expanded_search(\"corrupção\"))\n",
    "print(exp_search_corrupcao)"
   ]
  },
  {
   "cell_type": "markdown",
   "metadata": {},
   "source": [
    "Para o termo **petrobrás**:"
   ]
  },
  {
   "cell_type": "code",
   "execution_count": 19,
   "metadata": {},
   "outputs": [
    {
     "name": "stdout",
     "output_type": "stream",
     "text": [
      "[1, 3, 7, 13, 15, 8208, 19, 4116, 21, 26, 27, 29, 35, 42, 43, 46, 48, 50, 51, 54, 55, 59, 61, 67, 68, 69, 72, 73, 76, 79, 80, 81, 86, 89, 90, 91, 92, 95, 98, 99, 100, 101, 102, 104, 105, 106, 112, 8304, 114, 117, 118, 121, 122, 123, 126, 127, 128, 8326, 137, 142, 143, 144, 145, 146, 147, 149, 150, 151, 152, 153, 154, 155, 156, 158, 159, 160, 161, 4258, 163, 164, 165, 167, 4264, 8363, 172, 173, 8366, 4273, 178, 182, 185, 191, 192, 195, 196, 197, 198, 201, 205, 208, 209, 8402, 211, 8404, 213, 214, 8410, 220, 222, 223, 8416, 8414, 8417, 231, 236, 241, 242, 243, 8435, 250, 252, 257, 258, 259, 260, 8451, 265, 268, 270, 271, 272, 273, 277, 280, 281, 8472, 283, 8478, 4384, 289, 291, 292, 293, 4390, 298, 4394, 4396, 301, 302, 303, 305, 307, 311, 312, 4407, 314, 316, 317, 319, 8513, 323, 8515, 327, 4424, 4425, 330, 333, 4429, 4431, 4433, 337, 4435, 342, 343, 344, 4439, 8534, 4443, 348, 8539, 350, 351, 352, 353, 354, 355, 356, 357, 358, 359, 360, 361, 362, 363, 4458, 4459, 4461, 4454, 368, 367, 370, 8562, 4460, 8556, 4472, 377, 4475, 4479, 386, 392, 8588, 397, 8593, 4499, 4501, 406, 4502, 408, 4505, 8601, 415, 8609, 8610, 8612, 422, 429, 430, 432, 434, 435, 436, 4533, 4530, 4531, 4536, 4537, 442, 443, 441, 4541, 4542, 4545, 450, 4547, 454, 455, 459, 460, 464, 465, 8656, 468, 469, 4565, 472, 4569, 474, 475, 476, 477, 8671, 4576, 4577, 483, 4580, 485, 4581, 488, 4584, 4585, 4587, 4588, 4589, 498, 8692, 502, 503, 504, 505, 4601, 4605, 509, 511, 514, 4610, 516, 4614, 4618, 4621, 4622, 527, 528, 530, 4626, 4627, 533, 534, 535, 536, 4628, 4629, 539, 540, 541, 4636, 4638, 544, 545, 538, 547, 548, 551, 553, 4650, 555, 556, 557, 558, 559, 560, 561, 4655, 563, 564, 565, 4660, 567, 566, 569, 568, 571, 572, 573, 4667, 4671, 570, 575, 4674, 579, 4668, 581, 4670, 583, 4679, 4680, 586, 587, 588, 589, 4686, 4687, 593, 4689, 594, 595, 596, 598, 599, 600, 601, 602, 605, 609, 611, 612, 614, 615, 616, 618, 619, 620, 4715, 624, 627, 634, 4732, 637, 4733, 641, 643, 648, 649, 4769, 674, 684, 685, 689, 691, 692, 4791, 695, 699, 700, 711, 712, 714, 717, 4815, 724, 4820, 726, 727, 4823, 729, 4827, 4828, 733, 4829, 735, 736, 737, 738, 742, 4841, 4842, 4843, 748, 749, 4845, 752, 4850, 757, 758, 4863, 4864, 769, 770, 772, 4872, 4879, 4881, 4882, 4889, 797, 4894, 4898, 4899, 813, 817, 818, 826, 4923, 830, 834, 4930, 4933, 841, 842, 4937, 844, 849, 854, 4952, 4953, 858, 859, 4956, 863, 2614, 866, 868, 872, 873, 876, 877, 878, 879, 880, 883, 886, 890, 4987, 897, 899, 4997, 4999, 905, 906, 908, 909, 910, 5009, 5014, 5024, 928, 5033, 5034, 940, 941, 5037, 5036, 5039, 5042, 950, 951, 954, 5050, 956, 957, 5054, 5056, 961, 968, 974, 976, 5077, 982, 988, 991, 5090, 5093, 998, 1000, 1005, 1009, 1010, 5119, 1027, 5123, 1030, 5134, 1039, 1040, 5137, 1046, 1047, 5149, 1054, 1056, 5153, 1061, 1062, 1063, 5160, 5168, 1079, 1080, 1082, 5178, 1089, 1092, 1094, 1096, 1098, 1102, 1106, 1107, 1108, 5227, 5234, 1139, 5240, 1145, 1148, 5247, 5251, 1161, 1162, 1163, 1166, 1168, 1169, 5270, 1175, 1182, 1184, 1187, 1190, 5288, 1202, 1203, 1206, 5305, 1210, 1213, 1215, 1217, 1218, 5313, 1219, 1221, 1224, 1230, 1231, 1232, 1241, 1242, 1243, 1244, 1247, 1249, 1250, 1251, 1252, 5349, 1257, 1260, 1261, 1263, 1264, 1265, 1270, 1272, 1273, 1275, 1284, 1289, 1296, 1297, 5393, 1299, 1300, 5396, 1302, 1301, 1303, 1305, 5400, 5401, 5410, 1338, 5436, 1341, 1345, 5445, 1352, 5450, 5455, 1369, 1372, 5469, 1374, 1377, 1382, 1390, 5489, 5501, 5502, 1407, 1410, 1411, 1412, 5507, 1413, 1421, 1441, 1442, 1449, 5545, 1451, 1454, 1455, 1456, 1457, 1458, 1459, 1460, 1464, 5561, 1470, 1472, 1476, 5574, 1479, 5577, 1484, 1485, 1486, 1487, 1489, 1491, 1492, 5590, 5591, 1499, 1503, 5606, 5607, 1518, 1520, 1522, 5619, 5621, 1526, 1529, 5633, 5635, 1541, 1543, 1545, 1548, 1552, 1556, 1558, 1565, 1567, 1571, 1577, 1578, 1581, 1582, 1583, 1584, 5684, 1590, 1596, 1597, 1598, 5694, 5704, 1610, 5707, 1615, 1617, 1622, 1624, 1628, 1629, 1639, 1640, 1641, 1643, 1644, 5741, 5744, 1653, 5752, 1656, 5755, 1660, 1666, 1670, 1674, 1675, 1678, 1682, 5786, 1691, 1692, 1694, 1696, 1698, 5795, 5799, 5800, 1705, 1706, 1707, 5812, 1722, 1725, 1730, 1733, 1734, 5829, 1736, 1739, 5836, 1741, 1742, 1743, 1744, 5837, 1746, 1748, 5846, 1751, 1755, 1757, 1758, 1760, 1761, 5857, 1766, 1768, 1770, 1771, 1772, 1780, 1781, 1786, 1787, 5886, 1792, 1794, 1795, 1797, 5894, 1800, 1803, 1804, 5901, 5903, 5907, 1813, 1814, 1816, 5912, 5914, 1819, 5916, 1821, 5917, 1823, 5922, 1832, 5928, 1834, 5939, 1844, 5942, 5946, 1852, 1863, 4441, 5962, 5964, 1871, 1877, 4444, 5978, 1888, 5989, 4447, 5993, 5995, 4448, 6000, 4449, 4452, 6021, 4453, 1930, 1931, 4456, 6037, 6039, 1944, 1945, 6044, 1949, 6050, 6051, 6052, 6054, 6056, 6061, 6064, 6065, 6072, 6074, 6075, 1984, 6083, 6085, 6086, 6092, 6096, 6099, 6102, 6104, 2011, 6107, 6111, 2023, 6123, 6124, 2034, 2035, 2039, 6136, 2047, 2048, 8549, 6156, 6168, 2079, 6177, 6178, 2086, 6183, 6190, 6196, 6201, 6202, 6203, 6205, 6206, 6214, 6219, 6220, 6221, 6235, 6241, 6242, 6244, 2148, 6253, 6254, 6255, 6260, 2167, 2176, 2185, 6283, 2188, 2190, 6294, 6304, 6306, 6308, 6322, 6324, 2237, 2240, 2243, 2244, 2246, 6346, 6350, 2259, 6356, 2266, 2267, 2268, 6368, 6369, 2280, 6381, 2288, 2289, 6387, 6388, 6389, 2292, 6391, 2297, 2298, 2299, 6396, 2302, 6399, 6400, 6406, 6407, 2312, 2313, 6410, 6411, 2315, 2314, 2318, 6415, 6416, 2321, 2322, 2324, 2325, 2326, 2327, 6420, 6425, 2330, 2332, 6429, 2333, 2335, 6433, 2337, 2340, 2341, 6436, 6437, 2342, 6441, 2343, 6443, 2348, 2345, 2349, 2351, 2352, 6449, 2355, 2357, 2358, 2359, 2361, 2362, 6458, 6460, 6466, 2371, 6467, 2379, 6476, 6479, 2384, 2386, 2389, 6488, 2395, 2397, 6496, 2401, 2402, 2407, 6507, 2412, 2413, 2417, 6513, 6518, 6519, 6522, 6523, 6524, 2429, 6526, 6527, 6529, 6531, 2436, 2435, 6534, 2439, 2438, 6537, 2442, 6535, 6539, 2441, 6542, 6543, 6538, 6541, 6548, 2453, 6554, 2462, 6558, 6559, 2471, 6572, 6579, 6580, 6589, 6590, 6592, 6593, 2497, 2939, 6599, 6600, 2504, 2510, 2511, 2515, 2516, 6612, 2943, 2525, 2527, 6625, 6628, 2534, 6631, 6633, 6634, 2540, 6637, 2542, 6639, 2544, 6641, 6642, 2547, 2549, 6646, 6647, 2557, 2558, 6653, 2562, 6659, 6661, 6662, 6663, 6665, 6672, 6675, 6676, 6679, 6681, 6683, 6685, 2591, 6688, 2593, 2594, 2596, 2598, 6694, 6697, 2602, 6701, 6702, 6704, 6705, 6707, 6708, 6709, 6710, 2615, 6712, 2612, 2613, 6715, 6716, 2621, 2619, 2623, 6720, 2616, 6722, 6714, 6724, 2627, 2628, 6727, 2632, 2638, 6734, 6736, 2641, 6737, 6738, 6735, 6741, 6742, 2647, 2648, 2649, 6745, 2642, 6749, 6750, 6751, 2658, 6755, 6756, 2661, 6757, 6760, 6761, 2667, 6763, 6765, 2671, 6767, 6769, 6770, 6778, 2682, 6779, 6783, 2688, 6785, 6786, 2691, 6790, 6791, 6793, 6796, 2701, 6799, 2703, 6803, 2712, 6813, 2718, 6815, 6816, 6820, 6824, 2729, 6825, 2734, 2735, 2736, 6831, 2742, 6838, 6840, 2750, 6852, 6853, 2759, 6856, 2764, 6860, 2766, 6864, 6865, 2771, 6868, 2773, 6869, 2777, 6873, 6875, 6876, 6879, 6880, 6888, 2793, 6889, 2795, 6890, 2797, 2798, 6893, 6894, 6898, 6901, 6902, 2807, 6903, 6904, 6905, 2811, 6907, 6910, 6911, 6913, 6914, 2819, 2821, 6918, 2823, 6919, 6921, 2826, 2827, 2828, 6925, 6926, 2830, 6928, 6929, 6930, 2835, 4634, 6933, 6934, 2839, 2838, 6939, 6940, 6941, 2850, 2851, 2853, 6950, 2855, 2854, 6954, 2859, 2860, 6955, 6956, 6957, 6959, 2865, 6961, 2868, 6964, 2870, 2871, 6968, 2873, 2875, 2877, 6976, 6977, 2886, 2888, 6986, 2891, 6988, 6990, 6991, 6992, 6994, 6995, 6996, 6997, 2902, 2906, 2908, 7009, 7010, 7013, 7014, 2920, 2921, 7017, 2922, 2923, 2925, 2926, 2927, 7022, 2930, 2932, 7029, 2934, 2935, 2936, 2937, 7032, 7035, 7036, 2933, 2942, 7033, 2944, 2940, 2946, 2945, 2948, 2947, 2941, 2951, 7047, 7048, 2954, 2953, 2950, 7055, 2961, 2963, 2965, 2966, 2968, 2969, 7067, 7070, 7072, 7073, 2977, 2979, 2980, 7075, 7078, 7077, 7081, 7082, 7084, 2989, 2990, 7085, 2991, 2992, 7088, 2994, 7094, 7100, 3006, 7111, 7112, 3017, 7113, 3022, 3024, 3025, 3026, 7122, 3030, 3031, 7126, 3033, 7130, 7131, 3036, 7132, 7133, 3037, 7136, 7142, 7144, 3050, 7149, 3056, 3057, 7153, 7155, 7157, 7158, 7159, 7161, 7163, 3071, 3073, 7173, 3078, 7174, 3080, 3081, 7175, 3083, 3084, 7180, 3086, 3087, 3088, 7185, 7187, 3094, 7190, 7192, 7193, 7195, 3100, 7196, 3099, 3106, 7203, 3107, 7205, 7204, 3111, 7209, 7211, 7213, 7214, 7215, 7217, 7218, 3123, 3124, 3125, 3126, 7223, 7224, 7225, 3129, 7228, 3133, 7229, 3136, 3137, 7233, 7235, 3141, 7237, 7240, 7242, 3151, 7248, 7249, 7253, 3158, 7256, 7257, 3160, 3163, 7262, 7263, 3168, 7264, 7265, 7269, 3174, 7272, 3179, 3180, 7275, 3183, 7279, 7282, 7283, 3189, 3190, 3191, 3192, 7287, 7290, 7291, 7292, 7293, 3198, 3199, 3200, 3202, 7298, 7300, 7299, 3206, 7302, 7303, 7304, 3210, 7305, 3212, 7306, 7307, 3207, 7312, 7313, 7314, 3219, 7315, 7316, 3222, 7319, 3220, 7317, 7322, 7323, 3223, 3230, 7326, 7327, 7329, 3234, 3236, 7332, 7333, 7334, 7336, 3241, 3240, 7339, 3243, 3245, 7341, 7342, 7343, 3249, 3246, 7347, 3251, 3254, 7350, 3255, 7353, 7354, 7355, 3260, 3261, 7357, 3264, 7361, 7360, 3267, 3269, 7366, 7365, 3272, 3274, 3275, 3277, 7375, 3280, 3281, 7378, 3282, 3284, 3286, 3287, 3291, 3293, 7390, 3296, 3299, 3301, 3303, 7400, 3305, 3306, 7401, 7404, 3309, 3310, 3312, 7408, 3315, 7412, 3319, 3323, 7419, 3325, 3326, 3328, 7425, 3330, 3331, 3333, 3334, 3335, 3337, 3338, 3339, 3342, 3343, 7441, 3345, 3347, 3348, 3346, 3349, 3351, 3352, 3353, 3355, 3361, 3362, 3363, 7461, 3367, 7466, 3372, 3375, 7474, 3380, 3381, 7476, 3384, 7480, 3385, 3387, 7483, 7485, 3386, 7487, 3392, 3393, 3394, 3389, 3390, 7484, 3399, 3400, 3401, 3402, 3403, 3404, 3405, 3406, 3408, 3409, 7506, 7507, 3411, 3413, 3414, 3415, 7511, 7513, 3418, 3419, 3420, 7512, 7516, 7518, 3424, 7521, 7523, 3428, 7524, 7526, 7528, 7530, 3435, 7532, 3437, 7534, 7535, 3440, 3441, 3443, 7540, 3447, 7544, 7546, 7548, 3452, 7549, 7551, 7552, 7554, 7555, 7557, 7560, 7562, 7566, 7567, 7568, 3488, 7585, 7588, 3496, 3497, 7593, 3508, 7613, 3523, 3534, 7632, 3540, 3542, 7638, 3545, 3548, 3563, 3575, 7679, 3588, 7685, 7694, 7700, 7701, 7702, 7703, 3615, 3617, 7716, 7726, 3635, 7733, 3641, 3653, 7755, 3661, 7764, 7768, 3673, 3674, 7770, 7773, 3690, 3691, 7787, 3704, 3705, 7804, 7805, 7806, 7807, 7808, 3732, 3744, 3748, 3782, 3788, 7885, 3796, 3802, 3810, 3815, 3826, 3827, 7927, 7944, 3854, 3855, 7951, 3856, 3860, 3863, 3214, 3215, 7985, 3903, 8000, 3904, 8012, 3917, 8013, 3920, 3931, 3941, 3942, 3943, 3944, 3946, 3947, 3950, 3951, 3963, 8060, 3965, 7301, 8063, 3972, 3977, 3986, 3994, 8093, 8094, 8098, 7309, 4007, 8105, 4013, 4022, 4036, 4052, 8179]\n"
     ]
    },
    {
     "name": "stderr",
     "output_type": "stream",
     "text": [
      "/home/paul0vinicius/anaconda3/lib/python3.6/site-packages/gensim/matutils.py:737: FutureWarning: Conversion of the second argument of issubdtype from `int` to `np.signedinteger` is deprecated. In future, it will be treated as `np.int64 == np.dtype(int).type`.\n",
      "  if np.issubdtype(vec.dtype, np.int):\n"
     ]
    }
   ],
   "source": [
    "exp_search_petrobras = search_or(expanded_search(\"petrobrás\"))\n",
    "print(exp_search_petrobras)"
   ]
  },
  {
   "cell_type": "markdown",
   "metadata": {},
   "source": [
    "Para o termo **esquema**:"
   ]
  },
  {
   "cell_type": "code",
   "execution_count": 20,
   "metadata": {},
   "outputs": [
    {
     "name": "stdout",
     "output_type": "stream",
     "text": [
      "[8194, 3, 7, 8208, 22, 8217, 27, 28, 8221, 35, 8228, 8227, 38, 40, 42, 8234, 44, 45, 50, 51, 8244, 8245, 54, 55, 56, 57, 59, 8252, 8254, 8259, 68, 67, 8262, 70, 72, 76, 77, 79, 81, 86, 89, 8282, 91, 92, 95, 8287, 97, 98, 99, 100, 8294, 8296, 105, 106, 8304, 113, 8306, 117, 119, 120, 8313, 123, 124, 127, 129, 8324, 137, 8331, 143, 144, 145, 146, 147, 149, 150, 8343, 152, 153, 154, 155, 156, 158, 159, 163, 164, 165, 167, 8361, 170, 8363, 172, 173, 8362, 8364, 8366, 178, 8371, 183, 185, 8380, 191, 192, 8386, 195, 196, 197, 198, 201, 205, 207, 208, 209, 8402, 211, 8404, 213, 214, 215, 8411, 8414, 223, 8416, 8417, 8420, 231, 8431, 241, 242, 8435, 243, 8440, 249, 250, 8441, 252, 8443, 8445, 8447, 257, 258, 259, 260, 8450, 262, 265, 8457, 8458, 268, 269, 8461, 273, 275, 276, 277, 280, 281, 282, 8474, 8478, 8479, 8480, 289, 291, 292, 8485, 8488, 298, 301, 302, 8493, 8494, 305, 8497, 307, 8495, 8496, 8498, 311, 8504, 8500, 314, 8506, 316, 8507, 8510, 8512, 8513, 322, 323, 8514, 8515, 8518, 327, 326, 333, 8528, 8531, 8534, 343, 342, 345, 8536, 348, 350, 351, 352, 353, 358, 359, 360, 361, 362, 8558, 370, 8567, 379, 8574, 8576, 389, 392, 393, 8588, 8589, 400, 8595, 403, 406, 8598, 408, 8601, 8599, 8609, 418, 419, 8612, 421, 422, 420, 8620, 429, 430, 8623, 432, 433, 434, 435, 8625, 441, 442, 443, 8637, 448, 8641, 450, 452, 454, 8647, 459, 460, 8652, 464, 465, 8656, 8659, 468, 469, 8665, 474, 475, 476, 477, 8668, 478, 481, 485, 488, 8682, 8686, 498, 8691, 504, 505, 509, 511, 512, 8705, 514, 515, 516, 8708, 8709, 521, 524, 526, 527, 533, 534, 535, 536, 538, 540, 541, 544, 545, 547, 553, 555, 557, 559, 560, 561, 563, 564, 565, 566, 567, 568, 569, 570, 571, 572, 573, 575, 579, 581, 583, 587, 588, 593, 594, 596, 598, 599, 600, 601, 602, 607, 611, 612, 614, 615, 616, 618, 619, 620, 624, 634, 637, 638, 641, 643, 648, 649, 652, 657, 670, 671, 672, 673, 674, 684, 685, 689, 692, 693, 695, 699, 700, 711, 712, 715, 716, 717, 720, 721, 724, 727, 729, 732, 733, 734, 735, 736, 737, 738, 749, 752, 757, 759, 762, 769, 770, 772, 811, 817, 821, 825, 826, 830, 834, 841, 842, 844, 845, 847, 854, 858, 859, 864, 868, 870, 872, 873, 874, 876, 877, 879, 890, 892, 896, 906, 913, 922, 926, 938, 939, 940, 950, 953, 954, 956, 957, 961, 974, 976, 979, 988, 991, 993, 997, 998, 1000, 1025, 1040, 1054, 1056, 1061, 1063, 1068, 1074, 1076, 1079, 1080, 1096, 1098, 1106, 1131, 1140, 1145, 1148, 1158, 1161, 1168, 1169, 1175, 1176, 1182, 1184, 1186, 1187, 1190, 1193, 1206, 1208, 1210, 1213, 1218, 1220, 1225, 1228, 1230, 1232, 1233, 1235, 1236, 1248, 1249, 1250, 1251, 1252, 1257, 1260, 1261, 1263, 1264, 1265, 1268, 1269, 1270, 1272, 1273, 1280, 1284, 1285, 1289, 1299, 1300, 1301, 1302, 1303, 1305, 1307, 1311, 1312, 1313, 1316, 1317, 1334, 1338, 1341, 1350, 1352, 1364, 1365, 1369, 1372, 1379, 1382, 1391, 1394, 1397, 1409, 1411, 1415, 1421, 1423, 1429, 1435, 1438, 1441, 1442, 1449, 1456, 1457, 1459, 1470, 1484, 1485, 1489, 1491, 1498, 1518, 1520, 1521, 1528, 1529, 1545, 1548, 1552, 1558, 1559, 1567, 1571, 1577, 1578, 1581, 1582, 1587, 1590, 1598, 1612, 1637, 1638, 1639, 1640, 1643, 1644, 1654, 1656, 1660, 1670, 1674, 1675, 1678, 1689, 1691, 1692, 1696, 1698, 1701, 1705, 1706, 1722, 1723, 1727, 1731, 1733, 1734, 1736, 1739, 1741, 1743, 1744, 1748, 1751, 1753, 1754, 1755, 1757, 1758, 1761, 1766, 1771, 1772, 1780, 1781, 1783, 1786, 1787, 1792, 1795, 1796, 1797, 1800, 1803, 1804, 1813, 1814, 1816, 1819, 1821, 1823, 1832, 1841, 1852, 1863, 1867, 1871, 1883, 1897, 1898, 1930, 1931, 1938, 1943, 1944, 1949, 1951, 1981, 1982, 2000, 2023, 2043, 2047, 2048, 2052, 2077, 2145, 2146, 2148, 2166, 2167, 2169, 2175, 2176, 2178, 2182, 2188, 2190, 2200, 2241, 2244, 2245, 2265, 2266, 2267, 2271, 2290, 2297, 2302, 2310, 2315, 2318, 2319, 2340, 2341, 2345, 2348, 2355, 2364, 2367, 2368, 2370, 2389, 2396, 2400, 2407, 2414, 2417, 2420, 2425, 2429, 2439, 2446, 2455, 2463, 2471, 2486, 2501, 2505, 2506, 2511, 2513, 2522, 2524, 2525, 2529, 2543, 2544, 2548, 2557, 2567, 2576, 2581, 2583, 2592, 2597, 2598, 2603, 2615, 2616, 2619, 2621, 2625, 2629, 2630, 2632, 2634, 2636, 2642, 2657, 2667, 2682, 2684, 2692, 2708, 2711, 2724, 2729, 2734, 2735, 2736, 2740, 2759, 2764, 2771, 2773, 2787, 2788, 2795, 2796, 2797, 2807, 2812, 2814, 2815, 2823, 2825, 2826, 2829, 2832, 2835, 2837, 2838, 2839, 2859, 2865, 2868, 2870, 2871, 2873, 2875, 2877, 2882, 2884, 2891, 2902, 2906, 2920, 2921, 2923, 2925, 2927, 2930, 2932, 2933, 2934, 2935, 2936, 2939, 2941, 2944, 2945, 2946, 2948, 2950, 2951, 2953, 2954, 2961, 2965, 2969, 2989, 2991, 2992, 2994, 3013, 3017, 3018, 3025, 3026, 3029, 3031, 3036, 3043, 3050, 3052, 3054, 3055, 3078, 3081, 3083, 3084, 3086, 3087, 3088, 3089, 3094, 3096, 3097, 3099, 3104, 3106, 3111, 3125, 3129, 3134, 3136, 3137, 3139, 3141, 3151, 3158, 3163, 3168, 3179, 3183, 3192, 3198, 3200, 3202, 3206, 3208, 3210, 3219, 3220, 3222, 3230, 3236, 3243, 3254, 3256, 3259, 3260, 3261, 3264, 3269, 3272, 3275, 3277, 3281, 3282, 3285, 3287, 3290, 3291, 3293, 3296, 3298, 3299, 3301, 3303, 3305, 3306, 3309, 3310, 3312, 3315, 3319, 3323, 3325, 3326, 3330, 3333, 3334, 3335, 3337, 3338, 3341, 3342, 3345, 3347, 3348, 3349, 3351, 3352, 3353, 3355, 3361, 3362, 3363, 3367, 3372, 3375, 3381, 3385, 3390, 3392, 3393, 3394, 3399, 3400, 3401, 3402, 3403, 3404, 3405, 3408, 3411, 3413, 3414, 3415, 3418, 3419, 3420, 3424, 3428, 3437, 3440, 3446, 3447, 3448, 3463, 3470, 3474, 3481, 3488, 3489, 3494, 3504, 3512, 3517, 3519, 3528, 3534, 3542, 3543, 3560, 3563, 3575, 3583, 3586, 3594, 3606, 3607, 3617, 3626, 3641, 3645, 3648, 3652, 3654, 3662, 3671, 3674, 3676, 3687, 3691, 3700, 3727, 3743, 3748, 3749, 3775, 3780, 3790, 3803, 3807, 3813, 3822, 3848, 3850, 3858, 3891, 3897, 3898, 3899, 3900, 3917, 3918, 3920, 3926, 3943, 3944, 3945, 3950, 3951, 3954, 3965, 3966, 3972, 3979, 3986, 3998, 4006, 4024, 4044, 4059, 4086, 4117, 4174, 4258, 4276, 4389, 4390, 4391, 4394, 4396, 4401, 4404, 4406, 4408, 4412, 4413, 4415, 4416, 4418, 4421, 4422, 4423, 4424, 4431, 4433, 4435, 4441, 4444, 4449, 4452, 4456, 4459, 4460, 4461, 4464, 4465, 4470, 4471, 4473, 4474, 4475, 4477, 4480, 4494, 4500, 4503, 4504, 4505, 4508, 4515, 4521, 4544, 4546, 4565, 4569, 4580, 4588, 4594, 4605, 4608, 4611, 4619, 4627, 4650, 4653, 4658, 4663, 4664, 4667, 4671, 4674, 4676, 4677, 4680, 4683, 4689, 4690, 4702, 4704, 4729, 4733, 4739, 4766, 4774, 4778, 4792, 4800, 4802, 4803, 4805, 4808, 4813, 4819, 4822, 4823, 4824, 4825, 4831, 4835, 4843, 4845, 4850, 4871, 4874, 4875, 4877, 4881, 4883, 4886, 4888, 4891, 4892, 4903, 4932, 4952, 4953, 4964, 4997, 4999, 5014, 5017, 5018, 5019, 5021, 5024, 5032, 5035, 5036, 5037, 5055, 5056, 5059, 5074, 5077, 5086, 5093, 5097, 5102, 5112, 5115, 5121, 5122, 5123, 5124, 5129, 5137, 5147, 5150, 5152, 5160, 5161, 5165, 5166, 5167, 5175, 5177, 5178, 5181, 5182, 5207, 5213, 5215, 5229, 5267, 5268, 5270, 5273, 5286, 5302, 5306, 5313, 5314, 5325, 5327, 5332, 5336, 5341, 5342, 5346, 5348, 5350, 5390, 5410, 5415, 5417, 5447, 5457, 5467, 5469, 5489, 5497, 5499, 5515, 5525, 5536, 5547, 5550, 5551, 5556, 5559, 5562, 5569, 5571, 5574, 5582, 5601, 5619, 5621, 5624, 5628, 5635, 5653, 5667, 5700, 5701, 5744, 5757, 5759, 5762, 5765, 5767, 5778, 5780, 5783, 5794, 5798, 5799, 5800, 5830, 5834, 5835, 5836, 5837, 5843, 5855, 5857, 5865, 5868, 5881, 5885, 5886, 5890, 5894, 5901, 5914, 5915, 5916, 5919, 5927, 5939, 5941, 5942, 5943, 5944, 5946, 5958, 5961, 5962, 5963, 5968, 5986, 6033, 6056, 6059, 6062, 6064, 6065, 6072, 6074, 6075, 6080, 6083, 6085, 6086, 6087, 6096, 6098, 6099, 6120, 6123, 6137, 6153, 6160, 6168, 6172, 6185, 6197, 6199, 6203, 6204, 6205, 6206, 6209, 6214, 6219, 6225, 6230, 6233, 6239, 6253, 6254, 6259, 6285, 6293, 6299, 6309, 6310, 6316, 6322, 6325, 6332, 6334, 6335, 6336, 6338, 6341, 6346, 6347, 6348, 6360, 6361, 6362, 6363, 6368, 6369, 6372, 6386, 6387, 6390, 6395, 6399, 6400, 6407, 6408, 6411, 6412, 6413, 6414, 6415, 6417, 6419, 6429, 6430, 6432, 6433, 6434, 6435, 6436, 6437, 6439, 6440, 6442, 6449, 6451, 6456, 6458, 6460, 6466, 6467, 6480, 6481, 6487, 6488, 6489, 6493, 6497, 6514, 6526, 6527, 6531, 6533, 6538, 6544, 6547, 6549, 6550, 6552, 6555, 6565, 6566, 6568, 6570, 6574, 6585, 6587, 6590, 6591, 6595, 6598, 6600, 6606, 6607, 6609, 6611, 6615, 6617, 6618, 6619, 6626, 6628, 6631, 6635, 6642, 6647, 6651, 6652, 6654, 6659, 6671, 6677, 6694, 6701, 6702, 6708, 6711, 6712, 6713, 6716, 6719, 6721, 6736, 6738, 6740, 6741, 6745, 6758, 6763, 6765, 6774, 6778, 6783, 6784, 6785, 6786, 6790, 6791, 6793, 6799, 6805, 6811, 6818, 6821, 6828, 6836, 6850, 6852, 6853, 6854, 6855, 6864, 6866, 6873, 6874, 6881, 6882, 6883, 6885, 6888, 6889, 6891, 6898, 6900, 6901, 6903, 6905, 6909, 6911, 6914, 6918, 6919, 6923, 6925, 6928, 6929, 6930, 6931, 6932, 6933, 6936, 6942, 6943, 6945, 6949, 6950, 6955, 6959, 6965, 6976, 6982, 6987, 6988, 6990, 6991, 7009, 7011, 7014, 7017, 7019, 7020, 7027, 7033, 7038, 7043, 7046, 7052, 7053, 7054, 7059, 7061, 7088, 7096, 7100, 7105, 7123, 7128, 7150, 7154, 7155, 7162, 7163, 7164, 7174, 7176, 7177, 7181, 7183, 7193, 7196, 7199, 7200, 7203, 7204, 7209, 7214, 7216, 7242, 7245, 7246, 7252, 7253, 7254, 7255, 7257, 7261, 7263, 7265, 7267, 7272, 7275, 7279, 7281, 7287, 7291, 7294, 7298, 7301, 7303, 7304, 7305, 7306, 7310, 7311, 7316, 7322, 7330, 7336, 7337, 7343, 7364, 7378, 7397, 7400, 7404, 7409, 7412, 7417, 7419, 7422, 7425, 7433, 7439, 7442, 7443, 7444, 7446, 7461, 7463, 7466, 7468, 7469, 7475, 7479, 7480, 7481, 7482, 7484, 7502, 7507, 7514, 7515, 7516, 7518, 7521, 7524, 7528, 7529, 7533, 7534, 7537, 7540, 7544, 7547, 7548, 7553, 7554, 7560, 7562, 7566, 7567, 7568, 7581, 7612, 7616, 7617, 7625, 7626, 7627, 7632, 7637, 7674, 7694, 7700, 7702, 7704, 7706, 7711, 7713, 7716, 7719, 7721, 7723, 7726, 7727, 7728, 7730, 7733, 7735, 7740, 7746, 7747, 7749, 7750, 7755, 7762, 7769, 7770, 7775, 7784, 7785, 7787, 7800, 7809, 7813, 7816, 7817, 7821, 7823, 7824, 7825, 7826, 7828, 7829, 7832, 7833, 7834, 7835, 7836, 7837, 7839, 7841, 7843, 7849, 7850, 7854, 7855, 7867, 7871, 7872, 7877, 7885, 7886, 7887, 7888, 7889, 7896, 7897, 7901, 7902, 7904, 7920, 7923, 7924, 7925, 7926, 7940, 7947, 7948, 7965, 7970, 7973, 7974, 7976, 7977, 7978, 7985, 7987, 7997, 7998, 8001, 8004, 8031, 8033, 8034, 8038, 8059, 8063, 8080, 8083, 8092, 8093, 8098, 8101, 8113, 8128, 8133, 8134, 8140, 8141, 8144, 8145, 8150, 8154, 8157, 8161, 8163, 8176, 8184, 8185]\n"
     ]
    },
    {
     "name": "stderr",
     "output_type": "stream",
     "text": [
      "/home/paul0vinicius/anaconda3/lib/python3.6/site-packages/gensim/matutils.py:737: FutureWarning: Conversion of the second argument of issubdtype from `int` to `np.signedinteger` is deprecated. In future, it will be treated as `np.int64 == np.dtype(int).type`.\n",
      "  if np.issubdtype(vec.dtype, np.int):\n"
     ]
    }
   ],
   "source": [
    "exp_search_esquema = search_or(expanded_search(\"esquema\"))\n",
    "print(exp_search_esquema)"
   ]
  },
  {
   "cell_type": "code",
   "execution_count": 21,
   "metadata": {},
   "outputs": [
    {
     "name": "stdout",
     "output_type": "stream",
     "text": [
      "880\n",
      "767\n",
      "966\n"
     ]
    }
   ],
   "source": [
    "print(len(exp_search_corrupcao) - len(simple_search_corrupcao))\n",
    "print(len(exp_search_petrobras) - len(simple_search_petrobras))\n",
    "print(len(exp_search_esquema) - len(simple_search_esquema))"
   ]
  },
  {
   "cell_type": "markdown",
   "metadata": {},
   "source": [
    "Temos um aumento de 880 documentos retornados na busca expandida para corrupção.  \n",
    "Temos um aumento de 767 documentos retornados na busca expandida para petrobrás.  \n",
    "Temos um aumento de 966 documentos retornados na busca expandida para esquema.  \n",
    "\n",
    "É algo de bastante aproveitamento quando se trata de termos com pouco _match_ ou quando se quer aumentar o leque de opções para o usuário. Nem sempre o usuário elabora a pesquisa da melhor maneira ou sequer sabe como pesquisar determinado assunto. Por isso é interessante ajudar o usuário encontrar o que ele busca ou até mesmo sugerir novas coisas que possivelmente sejam do interesse deste, apesar dele não ter conhecimento."
   ]
  },
  {
   "cell_type": "markdown",
   "metadata": {},
   "source": [
    "### Melhora no _Precision_ ou _Recall_?"
   ]
  },
  {
   "cell_type": "markdown",
   "metadata": {},
   "source": [
    "Na definição de _precision_, sabe-se que este é a fração de documentos relevantes entre os documentos recuperados e _recall_ é a fração de documentos relevantes recuperados entre o total de documentos relevantes.  \n",
    "\n",
    "Dessa forma, ao expandir a busca o número de documentos que dão _match_ na consulta aumenta e consequentemente o número de documentos relevantes. Dessa forma a precisão diminui, já que na forma em que estas são calculadas, aumentar uma implica na diminuição da outra."
   ]
  }
 ],
 "metadata": {
  "kernelspec": {
   "display_name": "Python 3",
   "language": "python",
   "name": "python3"
  },
  "language_info": {
   "codemirror_mode": {
    "name": "ipython",
    "version": 3
   },
   "file_extension": ".py",
   "mimetype": "text/x-python",
   "name": "python",
   "nbconvert_exporter": "python",
   "pygments_lexer": "ipython3",
   "version": "3.6.4"
  }
 },
 "nbformat": 4,
 "nbformat_minor": 2
}
