{
 "cells": [
  {
   "cell_type": "code",
   "execution_count": 13,
   "metadata": {},
   "outputs": [],
   "source": [
    "import pandas as pd\n",
    "import numpy as np\n",
    "import nltk as nl\n",
    "from collections import defaultdict"
   ]
  },
  {
   "cell_type": "code",
   "execution_count": 14,
   "metadata": {},
   "outputs": [],
   "source": [
    "DATABASE_PATH = 'database/noticias_estadao.csv'"
   ]
  },
  {
   "cell_type": "code",
   "execution_count": 15,
   "metadata": {
    "scrolled": true
   },
   "outputs": [],
   "source": [
    "noticias_estadao = pd.read_csv(DATABASE_PATH)"
   ]
  },
  {
   "cell_type": "code",
   "execution_count": 16,
   "metadata": {},
   "outputs": [],
   "source": [
    "def um_termo(termo):\n",
    "    return dict[termo]"
   ]
  },
  {
   "cell_type": "code",
   "execution_count": 17,
   "metadata": {},
   "outputs": [],
   "source": [
    "def busca_and(termo1, termo2):\n",
    "    ocorr_termo1 = set(dict[termo1])\n",
    "    ocorr_termo2 = set(dict[termo2])\n",
    "    \n",
    "    return ocorr_termo1 & ocorr_termo2"
   ]
  },
  {
   "cell_type": "code",
   "execution_count": 18,
   "metadata": {},
   "outputs": [],
   "source": [
    "def busca_or(termo1, termo2):\n",
    "    ocorr_termo1 = set(dict[termo1])\n",
    "    ocorr_termo2 = set(dict[termo2])\n",
    "    \n",
    "    return ocorr_termo1 | ocorr_termo2"
   ]
  },
  {
   "cell_type": "code",
   "execution_count": 19,
   "metadata": {},
   "outputs": [],
   "source": [
    "def sanity_check():\n",
    "    result_busca = busca(\"campina\",\"grande\",\"AND\")\n",
    "    print(result_busca)\n",
    "    expected = [1952, 4802, 1987, 6694, 5382, 1770, 2763, 1068, 5870, 2777, 1370, 2779]\n",
    "    \n",
    "    return len(result_busca) == len(expected) and sorted(result_busca) == sorted(expected)"
   ]
  },
  {
   "cell_type": "code",
   "execution_count": 20,
   "metadata": {},
   "outputs": [],
   "source": [
    "def busca(termo1, termo2, operador):\n",
    "    if(operador == \"AND\"):\n",
    "        return busca_and(termo1, termo2)\n",
    "    elif(operador == \"OR\"):\n",
    "        return busca_or(termo1, termo2)\n",
    "    else:\n",
    "        raise Exception('Busca não suportada! Buscas suportadas: \"AND\" e \"OR\".')"
   ]
  },
  {
   "cell_type": "code",
   "execution_count": 37,
   "metadata": {
    "collapsed": true
   },
   "outputs": [],
   "source": [
    "def busca(termo):\n",
    "    return um_termo(termo)"
   ]
  },
  {
   "cell_type": "code",
   "execution_count": 21,
   "metadata": {},
   "outputs": [],
   "source": [
    "def produz_tokens(df):\n",
    "    inverted_index = defaultdict(set)\n",
    "    for i, row in df.iterrows():\n",
    "        tokens_titulos = (word.lower() for word in (nl.word_tokenize(row['titulo'])))\n",
    "        #tokens = nl.word_tokenize(titulos)\n",
    "        for token in tokens_titulos:\n",
    "            inverted_index[token].add(row['idNoticia'])\n",
    "            \n",
    "        tokens_conteudo = (word.lower() for word in (nl.word_tokenize(row['conteudo'])))\n",
    "        for token in tokens_conteudo:\n",
    "            inverted_index[token].add(row['idNoticia'])\n",
    "        \n",
    "    return inverted_index\n",
    "        "
   ]
  },
  {
   "cell_type": "code",
   "execution_count": null,
   "metadata": {},
   "outputs": [],
   "source": [
    "dict = produz_tokens(noticias_estadao)\n"
   ]
  },
  {
   "cell_type": "code",
   "execution_count": 11,
   "metadata": {},
   "outputs": [
    {
     "name": "stdout",
     "output_type": "stream",
     "text": [
      "{1952, 4802, 1987, 5382, 6694, 1770, 2763, 1068, 5870, 2777, 1370, 2779}\n"
     ]
    }
   ],
   "source": [
    "#result_busca = busca(\"campina\",\"grande\",\"AND\")\n",
    "#expected = [1952, 4802, 1987, 6694, 5382, 1770, 2763, 1068, 5870, 2777, 1370, 2779]\n",
    "\n",
    "assert(sanity_check())"
   ]
  },
  {
   "cell_type": "code",
   "execution_count": 12,
   "metadata": {},
   "outputs": [
    {
     "data": {
      "text/plain": [
       "set()"
      ]
     },
     "execution_count": 12,
     "metadata": {},
     "output_type": "execute_result"
    }
   ],
   "source": [
    "print(um_termo(\"candidatos\"))\n",
    "print(busca(\"debate\", \"presidencial\", \"AND\"))\n",
    "print(busca(\"debate\", \"presidencial\", \"OR\")\n",
    "busca(\"presidenciáveis\", \"corruptos\", \"AND\")\n",
    "busca(\"presidenciáveis\", \"corruptos\", \"OR\")\n",
    "busca(\"Belo\", \"Horizonte\", \"AND\")\n",
    "busca(\"Belo\", \"Horizonte\", \"OR\")"
   ]
  }
 ],
 "metadata": {
  "kernelspec": {
   "display_name": "Python 3",
   "language": "python",
   "name": "python3"
  },
  "language_info": {
   "codemirror_mode": {
    "name": "ipython",
    "version": 3
   },
   "file_extension": ".py",
   "mimetype": "text/x-python",
   "name": "python",
   "nbconvert_exporter": "python",
   "pygments_lexer": "ipython3",
   "version": "3.6.4"
  }
 },
 "nbformat": 4,
 "nbformat_minor": 2
}
