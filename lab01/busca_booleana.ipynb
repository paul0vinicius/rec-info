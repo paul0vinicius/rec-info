{
 "cells": [
  {
   "cell_type": "markdown",
   "metadata": {},
   "source": [
    "# Laboratório 1 - Parte 1: Índice Invertido e Busca Booleana"
   ]
  },
  {
   "cell_type": "markdown",
   "metadata": {},
   "source": [
    "## Aluno: Paulo Vinícius Soares\n",
    "## 20/04/2018"
   ]
  },
  {
   "cell_type": "markdown",
   "metadata": {},
   "source": [
    "### Introdução"
   ]
  },
  {
   "cell_type": "markdown",
   "metadata": {},
   "source": [
    "O contexto desse laboratório se dá dentro da disciplina de Recuperação da Informação e Busca na Web da Universidade Federal de Campina Grande (UFCG), no período 2018.1.\n",
    "\n",
    "Para a primeira parte, faremos os _imports_ necessários das bibliotecas de Python especializadas em análise de dados. Utilizaremos _pandas_, _numpy_ e _nltk_."
   ]
  },
  {
   "cell_type": "code",
   "execution_count": 1,
   "metadata": {},
   "outputs": [],
   "source": [
    "import pandas as pd\n",
    "import numpy as np\n",
    "import nltk as nl\n",
    "from collections import defaultdict"
   ]
  },
  {
   "cell_type": "code",
   "execution_count": 2,
   "metadata": {},
   "outputs": [],
   "source": [
    "DATABASE_PATH = '../database/noticias_estadao.csv'"
   ]
  },
  {
   "cell_type": "markdown",
   "metadata": {},
   "source": [
    "A base de dados a ser utilizada nesse laboratório foi extraída a partir de um conjunto de notícias políticas coletadas no [Estadão Online](http://www.estadao.com.br/)."
   ]
  },
  {
   "cell_type": "code",
   "execution_count": 3,
   "metadata": {
    "scrolled": true
   },
   "outputs": [],
   "source": [
    "noticias_estadao = pd.read_csv(DATABASE_PATH)"
   ]
  },
  {
   "cell_type": "markdown",
   "metadata": {},
   "source": [
    "Analisando o _dataframe_ podemos visualizar que este conta com três campos: **titulo** referente ao título da notícia, **conteudo** referente ao corpo da matéria e o **idNoticia** referente ao identificador único da notícia. Podemos ver o _dataframe_ abaixo:"
   ]
  },
  {
   "cell_type": "code",
   "execution_count": 4,
   "metadata": {},
   "outputs": [
    {
     "data": {
      "text/html": [
       "<div>\n",
       "<style scoped>\n",
       "    .dataframe tbody tr th:only-of-type {\n",
       "        vertical-align: middle;\n",
       "    }\n",
       "\n",
       "    .dataframe tbody tr th {\n",
       "        vertical-align: top;\n",
       "    }\n",
       "\n",
       "    .dataframe thead th {\n",
       "        text-align: right;\n",
       "    }\n",
       "</style>\n",
       "<table border=\"1\" class=\"dataframe\">\n",
       "  <thead>\n",
       "    <tr style=\"text-align: right;\">\n",
       "      <th></th>\n",
       "      <th>titulo</th>\n",
       "      <th>conteudo</th>\n",
       "      <th>idNoticia</th>\n",
       "    </tr>\n",
       "  </thead>\n",
       "  <tbody>\n",
       "    <tr>\n",
       "      <th>0</th>\n",
       "      <td>11 dos eleitores do País são filiados a legendas</td>\n",
       "      <td>Há porém variações regionais nesse fenômeno En...</td>\n",
       "      <td>7617</td>\n",
       "    </tr>\n",
       "    <tr>\n",
       "      <th>1</th>\n",
       "      <td>11 executivos integram 1º pedido de condenação...</td>\n",
       "      <td>CURITIBA A força-tarefa da Operação Lava Jato ...</td>\n",
       "      <td>412</td>\n",
       "    </tr>\n",
       "    <tr>\n",
       "      <th>2</th>\n",
       "      <td>11 executivos integram 1º pedido de condenação...</td>\n",
       "      <td>CURITIBA A força-tarefa da Operação Lava Jato ...</td>\n",
       "      <td>415</td>\n",
       "    </tr>\n",
       "    <tr>\n",
       "      <th>3</th>\n",
       "      <td>13 de deputados do PMDB quer romper com PT</td>\n",
       "      <td>O Estado ouviu 54 dos 74 deputados do PMDB em ...</td>\n",
       "      <td>6736</td>\n",
       "    </tr>\n",
       "    <tr>\n",
       "      <th>4</th>\n",
       "      <td>2014 começou em 2007</td>\n",
       "      <td>O estudo do Estadão Dados publicado ontem sobr...</td>\n",
       "      <td>7611</td>\n",
       "    </tr>\n",
       "  </tbody>\n",
       "</table>\n",
       "</div>"
      ],
      "text/plain": [
       "                                              titulo  \\\n",
       "0   11 dos eleitores do País são filiados a legendas   \n",
       "1  11 executivos integram 1º pedido de condenação...   \n",
       "2  11 executivos integram 1º pedido de condenação...   \n",
       "3         13 de deputados do PMDB quer romper com PT   \n",
       "4                               2014 começou em 2007   \n",
       "\n",
       "                                            conteudo  idNoticia  \n",
       "0  Há porém variações regionais nesse fenômeno En...       7617  \n",
       "1  CURITIBA A força-tarefa da Operação Lava Jato ...        412  \n",
       "2  CURITIBA A força-tarefa da Operação Lava Jato ...        415  \n",
       "3  O Estado ouviu 54 dos 74 deputados do PMDB em ...       6736  \n",
       "4  O estudo do Estadão Dados publicado ontem sobr...       7611  "
      ]
     },
     "execution_count": 4,
     "metadata": {},
     "output_type": "execute_result"
    }
   ],
   "source": [
    "noticias_estadao.head()"
   ]
  },
  {
   "cell_type": "markdown",
   "metadata": {},
   "source": [
    "Visto que o _dataframe_ foi importado corretamente, as seções abaixo tratarão da construção do índice invertido e, em seguida, das funções de busca. Serão definidas três tipos de busca: Busca **AND**, **OR** e de **Um Termo**."
   ]
  },
  {
   "cell_type": "markdown",
   "metadata": {},
   "source": [
    "### Definição da função de Índice Invertido"
   ]
  },
  {
   "cell_type": "markdown",
   "metadata": {},
   "source": [
    "Para a construção do Índice Invertido é necessário verificar a ocorrência dos termos em cada documento mapeando-a para uma estrutura de dados, comumente um dicionário. Para fazer essa separação das palavras utilizaremos a função *word_tokenize()* da biblioteca _nltk_. Além disso, todos os termos devem estar minúsculos."
   ]
  },
  {
   "cell_type": "code",
   "execution_count": 5,
   "metadata": {},
   "outputs": [],
   "source": [
    "def produz_tokens(df):\n",
    "    inverted_index = defaultdict(set)\n",
    "    for i, row in df.iterrows():\n",
    "        tokens_titulos = (word.lower() for word in (nl.word_tokenize(row['titulo'])))\n",
    "        \n",
    "        for token in tokens_titulos:\n",
    "            inverted_index[token].add(row['idNoticia'])\n",
    "            \n",
    "        tokens_conteudo = (word.lower() for word in (nl.word_tokenize(row['conteudo'])))\n",
    "        for token in tokens_conteudo:\n",
    "            inverted_index[token].add(row['idNoticia'])\n",
    "        \n",
    "    return inverted_index"
   ]
  },
  {
   "cell_type": "code",
   "execution_count": 6,
   "metadata": {},
   "outputs": [],
   "source": [
    "dict = produz_tokens(noticias_estadao)"
   ]
  },
  {
   "cell_type": "markdown",
   "metadata": {},
   "source": [
    "### Definição das funções de busca"
   ]
  },
  {
   "cell_type": "markdown",
   "metadata": {},
   "source": [
    "As três funções de busca estão definidas abaixo. Para as buscas de um termo, um acesso direto ao dicionário retorna o desejado. Para as buscas utilizando **AND** e **OR**, as operações de conjunto são bastante úteis."
   ]
  },
  {
   "cell_type": "code",
   "execution_count": 7,
   "metadata": {},
   "outputs": [],
   "source": [
    "def um_termo(termo):\n",
    "    return dict[termo]"
   ]
  },
  {
   "cell_type": "code",
   "execution_count": 8,
   "metadata": {},
   "outputs": [],
   "source": [
    "def busca_and(termo1, termo2):\n",
    "    ocorr_termo1 = set(dict[termo1])\n",
    "    ocorr_termo2 = set(dict[termo2])\n",
    "    \n",
    "    return ocorr_termo1 & ocorr_termo2"
   ]
  },
  {
   "cell_type": "code",
   "execution_count": 9,
   "metadata": {},
   "outputs": [],
   "source": [
    "def busca_or(termo1, termo2):\n",
    "    ocorr_termo1 = set(dict[termo1])\n",
    "    ocorr_termo2 = set(dict[termo2])\n",
    "    \n",
    "    return ocorr_termo1 | ocorr_termo2"
   ]
  },
  {
   "cell_type": "code",
   "execution_count": 10,
   "metadata": {},
   "outputs": [],
   "source": [
    "def busca(termo1, operador, termo2):\n",
    "    if(operador == \"AND\"):\n",
    "        return busca_and(termo1, termo2)\n",
    "    elif(operador == \"OR\"):\n",
    "        return busca_or(termo1, termo2)\n",
    "    else:\n",
    "        raise Exception('Busca não suportada! Buscas suportadas: \"AND\" e \"OR\".')"
   ]
  },
  {
   "cell_type": "code",
   "execution_count": 11,
   "metadata": {},
   "outputs": [],
   "source": [
    "def search(string):\n",
    "    termos = string.split()\n",
    "    if len(termos) == 1:\n",
    "        return um_termo(termos[0].lower())\n",
    "    else:\n",
    "        return busca(termos[0].lower(), termos[1], termos[2].lower())"
   ]
  },
  {
   "cell_type": "markdown",
   "metadata": {},
   "source": [
    "### Testes de sanidade e asserts"
   ]
  },
  {
   "cell_type": "markdown",
   "metadata": {},
   "source": [
    "Com as funções já definidas e o _set_ de ocorrências construído, os testes abaixo visam garantir a corretude dos algoritmos escritos:"
   ]
  },
  {
   "cell_type": "code",
   "execution_count": 12,
   "metadata": {},
   "outputs": [],
   "source": [
    "def sanity_check():\n",
    "    result_busca = search(\"Campina AND Grande\")\n",
    "    expected = [1952, 4802, 1987, 6694, 5382, 1770, 2763, 1068, 5870, 2777, 1370, 2779]\n",
    "    \n",
    "    return len(result_busca) == len(expected) and sorted(result_busca) == sorted(expected)"
   ]
  },
  {
   "cell_type": "code",
   "execution_count": 13,
   "metadata": {},
   "outputs": [],
   "source": [
    "assert(sanity_check())"
   ]
  },
  {
   "cell_type": "code",
   "execution_count": 14,
   "metadata": {},
   "outputs": [
    {
     "name": "stdout",
     "output_type": "stream",
     "text": [
      "Número de ocorrências encontradas usando o termo 'candidatos':  1395\n"
     ]
    }
   ],
   "source": [
    "print(\"Número de ocorrências encontradas usando o termo 'candidatos': \", len(search(\"candidatos\")))\n",
    "assert len(search(\"debate OR presidencial\")) == 1770\n",
    "assert len(search(\"debate AND presidencial\")) == 201\n",
    "\n",
    "assert len(search(\"presidenciáveis OR corruptos\")) == 164\n",
    "assert len(search(\"presidenciáveis AND corruptos\")) == 0\n",
    "\n",
    "assert len(search(\"Belo OR Horizonte\")) == 331\n",
    "assert len(search(\"Belo AND Horizonte\")) == 242"
   ]
  },
  {
   "cell_type": "markdown",
   "metadata": {},
   "source": [
    "### Bônus"
   ]
  },
  {
   "cell_type": "markdown",
   "metadata": {},
   "source": [
    "Para implementar o algoritmo genérico para consultas conjuntivas é necessário salvar a frequência dos termos, então vamos definir uma classe em _Python_ que guarde esse atributo."
   ]
  },
  {
   "cell_type": "code",
   "execution_count": 15,
   "metadata": {},
   "outputs": [],
   "source": [
    "class Token:\n",
    "    def __init__(self, term, postings, frequency):\n",
    "        self.term = term\n",
    "        self.postings = postings\n",
    "        self.frequency = frequency\n",
    "        \n",
    "#     def __lt__(self, other):\n",
    "#         return self.frequency < other.frequency\n",
    "    \n",
    "#     def __eq__(self, other):\n",
    "#         return self.frequency == other.frequency\n",
    "    \n",
    "#     def __gt__(self, other):\n",
    "#         return self.frequency > other.frequency"
   ]
  },
  {
   "cell_type": "markdown",
   "metadata": {},
   "source": [
    "Agora, implementamos o algoritmo de interseção baseado na frequência. Primeiro ordenamos a lista, depois pegamos os _postings_ do primeiro termo e associamos à variável **result**; o restante é atribuído à **termos**. O laço fará a interseção entre os _postings_ do termo de menor frequência e dos demais até que não haja mais nenhum _posting_ a ser analisado."
   ]
  },
  {
   "cell_type": "code",
   "execution_count": 16,
   "metadata": {},
   "outputs": [],
   "source": [
    "def intersect(tokens):\n",
    "    termos = sorted(tokens, key=lambda x: x.frequency, reverse=False)\n",
    "    result = termos[0].postings\n",
    "    termos = termos[1:]\n",
    "    \n",
    "    termos.append(-1)\n",
    "    \n",
    "    i = 0\n",
    "    while termos[i] != -1 and len(result) != 0:\n",
    "        result = result & termos[0].postings\n",
    "        termos = termos[1:]\n",
    "        i = len(termos)-1\n",
    "    \n",
    "    return result"
   ]
  },
  {
   "cell_type": "markdown",
   "metadata": {},
   "source": [
    "Agora basta tratar a entrada para que esta trate a string corretamente:"
   ]
  },
  {
   "cell_type": "code",
   "execution_count": 17,
   "metadata": {},
   "outputs": [],
   "source": [
    "def get_entrada(lista_strings):\n",
    "    new_tokens = []\n",
    "    for termo in lista_strings:\n",
    "        new_tokens.append(Token(termo, dict[termo], len(dict[termo])))\n",
    "\n",
    "    return intersect(new_tokens)"
   ]
  },
  {
   "cell_type": "code",
   "execution_count": 18,
   "metadata": {},
   "outputs": [],
   "source": [
    "def busca_conjuntiva(string):\n",
    "    termos = (word.lower() for word in string.split(\" AND \"))\n",
    "    return get_entrada(termos)"
   ]
  },
  {
   "cell_type": "markdown",
   "metadata": {},
   "source": [
    "### Asserts"
   ]
  },
  {
   "cell_type": "markdown",
   "metadata": {},
   "source": [
    "Para os asserts anteriores, a busca funciona de forma semelhante passando nos testes e comprovando sua corretude."
   ]
  },
  {
   "cell_type": "code",
   "execution_count": 19,
   "metadata": {},
   "outputs": [],
   "source": [
    "assert len(busca_conjuntiva(\"Campina AND Grande\")) == 12\n",
    "assert len(busca_conjuntiva(\"debate AND presidencial\")) == 201\n",
    "assert len(busca_conjuntiva(\"presidenciáveis AND corruptos\")) == 0\n",
    "assert len(busca_conjuntiva(\"Belo AND Horizonte\")) == 242"
   ]
  }
 ],
 "metadata": {
  "kernelspec": {
   "display_name": "Python 3",
   "language": "python",
   "name": "python3"
  },
  "language_info": {
   "codemirror_mode": {
    "name": "ipython",
    "version": 3
   },
   "file_extension": ".py",
   "mimetype": "text/x-python",
   "name": "python",
   "nbconvert_exporter": "python",
   "pygments_lexer": "ipython3",
   "version": "3.6.4"
  }
 },
 "nbformat": 4,
 "nbformat_minor": 2
}
